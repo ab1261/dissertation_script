{
 "cells": [
  {
   "cell_type": "code",
   "execution_count": 1,
   "id": "fd816194-ffa1-4cb8-8a96-ceb23508d35b",
   "metadata": {},
   "outputs": [],
   "source": [
    "import iris\n",
    "import iris.quickplot as qplt\n",
    "import matplotlib.pyplot as plt\n",
    "from iris import *\n",
    "from iris.analysis import *\n",
    "from iris.analysis.cartography import *\n",
    "from collections.abc import Iterable, Mapping\n",
    "import operator\n",
    "import iris.coords\n",
    "import iris.exceptions\n",
    "from numpy import *\n",
    "from iris.coord_categorisation import *"
   ]
  },
  {
   "cell_type": "code",
   "execution_count": 2,
   "id": "e3a35d2b-9bdb-4d29-9ebe-e5a11cd16cc5",
   "metadata": {},
   "outputs": [
    {
     "name": "stdout",
     "output_type": "stream",
     "text": [
      "0: cell_area / (m2)                    (-- : 332; -- : 362)\n",
      "1: surface_downward_mass_flux_of_carbon_dioxide_expressed_as_carbon / (kg m-2 s-1) (time: 1032; -- : 332; -- : 362)\n"
     ]
    },
    {
     "name": "stderr",
     "output_type": "stream",
     "text": [
      "/Users/alicebrindley/opt/miniconda3/lib/python3.9/site-packages/iris/fileformats/cf.py:859: UserWarning: Missing CF-netCDF measure variable 'areacello', referenced by netCDF variable 'fgco2'\n",
      "  warnings.warn(\n"
     ]
    }
   ],
   "source": [
    "path = '/Users/alicebrindley/Dropbox/YEAR_3/Dissertation/Models/dissertation_script/IPSL/fgco2_Omon_IPSL-CM6A-LR_ssp370_r1i1p1f1_gn_201501-210012-2.nc'\n",
    "my_cube = iris.load(path)\n",
    "print(my_cube)"
   ]
  },
  {
   "cell_type": "code",
   "execution_count": 3,
   "id": "c4518672-fcff-4a11-b673-baf3ef9792c5",
   "metadata": {},
   "outputs": [
    {
     "name": "stdout",
     "output_type": "stream",
     "text": [
      "cell_area / (m2)                    (-- : 332; -- : 362)\n",
      "    Attributes:\n",
      "        CMIP6_CV_version            cv=6.2.3.5-2-g63b123e\n",
      "        Conventions                 CF-1.7 CMIP-6.2\n",
      "        EXPID                       ssp370\n",
      "        activity_id                 ScenarioMIP AerChemMIP\n",
      "        branch_method               standard\n",
      "        branch_time_in_child        0.0\n",
      "        branch_time_in_parent       60265.0\n",
      "        contact                     ipsl-cmip6@listes.ipsl.fr\n",
      "        creation_date               2018-12-18T20:37:48Z\n",
      "        data_specs_version          01.00.28\n",
      "        description                 Future scenario with high radiative forcing by the end of century. Reaches...\n",
      "        dr2xml_md5sum               c2dce418e78ca835be1e2ff817c2c403\n",
      "        dr2xml_version              1.16\n",
      "        experiment                  gap-filling scenario reaching 7.0 based on SSP3\n",
      "        experiment_id               ssp370\n",
      "        external_variables          areacello\n",
      "        forcing_index               1\n",
      "        frequency                   mon\n",
      "        further_info_url            https://furtherinfo.es-doc.org/CMIP6.IPSL.IPSL-CM6A-LR.ssp370.none.r1i...\n",
      "        grid                        native ocean tri-polar grid with 105 k ocean cells\n",
      "        grid_label                  gn\n",
      "        history                     none\n",
      "        initialization_index        1\n",
      "        institution                 Institut Pierre Simon Laplace, Paris 75252, France\n",
      "        institution_id              IPSL\n",
      "        license                     CMIP6 model data produced by IPSL is licensed under a Creative Commons...\n",
      "        mip_era                     CMIP6\n",
      "        model_version               6.1.8\n",
      "        name                        /ccc/work/cont003/gencmip6/p86caub/IGCM_OUT/IPSLCM6/PROD/ssp370/CM61-L...\n",
      "        nominal_resolution          100 km\n",
      "        parent_activity_id          CMIP\n",
      "        parent_experiment_id        historical\n",
      "        parent_mip_era              CMIP6\n",
      "        parent_source_id            IPSL-CM6A-LR\n",
      "        parent_time_units           days since 1850-01-01 00:00:00\n",
      "        parent_variant_label        r1i1p1f1\n",
      "        physics_index               1\n",
      "        product                     model-output\n",
      "        realization_index           1\n",
      "        realm                       ocnBgchem\n",
      "        source                      IPSL-CM6A-LR (2017):  atmos: LMDZ (NPv6, N96; 144 x 143 longitude/latitude;...\n",
      "        source_id                   IPSL-CM6A-LR\n",
      "        source_type                 AOGCM BGC\n",
      "        sub_experiment              none\n",
      "        sub_experiment_id           none\n",
      "        table_id                    Omon\n",
      "        title                       IPSL-CM6A-LR model output prepared for CMIP6 / ScenarioMIP AerChemMIP ...\n",
      "        tracking_id                 hdl:21.14100/1972337d-3f68-468d-8adb-a9ef2548fd56\n",
      "        variable_id                 fgco2\n",
      "        variant_info                Each member starts from the corresponding member of its parent experiment....\n",
      "        variant_label               r1i1p1f1\n"
     ]
    }
   ],
   "source": [
    "cell_area = my_cube[0]\n",
    "print(cell_area)"
   ]
  },
  {
   "cell_type": "code",
   "execution_count": 5,
   "id": "482a0044-9074-437e-9460-5ae751c675cb",
   "metadata": {},
   "outputs": [
    {
     "name": "stdout",
     "output_type": "stream",
     "text": [
      "surface_downward_mass_flux_of_carbon_dioxide_expressed_as_carbon / (kg m-2 s-1) (time: 1032; -- : 332; -- : 362)\n",
      "    Dimension coordinates:\n",
      "        time                                                                         x          -         -\n",
      "    Auxiliary coordinates:\n",
      "        latitude                                                                     -          x         x\n",
      "        longitude                                                                    -          x         x\n",
      "    Scalar coordinates:\n",
      "        depth                                                                   0.0 m\n",
      "    Cell methods:\n",
      "        mean where sea                                                          area\n",
      "        mean                                                                    time\n",
      "    Attributes:\n",
      "        CMIP6_CV_version                                                        cv=6.2.3.5-2-g63b123e\n",
      "        Conventions                                                             CF-1.7 CMIP-6.2\n",
      "        EXPID                                                                   ssp370\n",
      "        activity_id                                                             ScenarioMIP AerChemMIP\n",
      "        branch_method                                                           standard\n",
      "        branch_time_in_child                                                    0.0\n",
      "        branch_time_in_parent                                                   60265.0\n",
      "        contact                                                                 ipsl-cmip6@listes.ipsl.fr\n",
      "        creation_date                                                           2018-12-18T20:37:48Z\n",
      "        data_specs_version                                                      01.00.28\n",
      "        description                                                             Gas exchange flux of CO2 (positive into ocean)\n",
      "        dr2xml_md5sum                                                           c2dce418e78ca835be1e2ff817c2c403\n",
      "        dr2xml_version                                                          1.16\n",
      "        experiment                                                              gap-filling scenario reaching 7.0 based on SSP3\n",
      "        experiment_id                                                           ssp370\n",
      "        external_variables                                                      areacello\n",
      "        forcing_index                                                           1\n",
      "        frequency                                                               mon\n",
      "        further_info_url                                                        https://furtherinfo.es-doc.org/CMIP6.IPSL.IPSL-CM6A-LR.ssp370.none.r1i...\n",
      "        grid                                                                    native ocean tri-polar grid with 105 k ocean cells\n",
      "        grid_label                                                              gn\n",
      "        history                                                                 none\n",
      "        initialization_index                                                    1\n",
      "        institution                                                             Institut Pierre Simon Laplace, Paris 75252, France\n",
      "        institution_id                                                          IPSL\n",
      "        interval_operation                                                      2700 s\n",
      "        interval_write                                                          1 month\n",
      "        license                                                                 CMIP6 model data produced by IPSL is licensed under a Creative Commons...\n",
      "        mip_era                                                                 CMIP6\n",
      "        model_version                                                           6.1.8\n",
      "        name                                                                    /ccc/work/cont003/gencmip6/p86caub/IGCM_OUT/IPSLCM6/PROD/ssp370/CM61-L...\n",
      "        nominal_resolution                                                      100 km\n",
      "        online_operation                                                        average\n",
      "        parent_activity_id                                                      CMIP\n",
      "        parent_experiment_id                                                    historical\n",
      "        parent_mip_era                                                          CMIP6\n",
      "        parent_source_id                                                        IPSL-CM6A-LR\n",
      "        parent_time_units                                                       days since 1850-01-01 00:00:00\n",
      "        parent_variant_label                                                    r1i1p1f1\n",
      "        physics_index                                                           1\n",
      "        positive                                                                down\n",
      "        product                                                                 model-output\n",
      "        realization_index                                                       1\n",
      "        realm                                                                   ocnBgchem\n",
      "        source                                                                  IPSL-CM6A-LR (2017):  atmos: LMDZ (NPv6, N96; 144 x 143 longitude/latitude;...\n",
      "        source_id                                                               IPSL-CM6A-LR\n",
      "        source_type                                                             AOGCM BGC\n",
      "        sub_experiment                                                          none\n",
      "        sub_experiment_id                                                       none\n",
      "        table_id                                                                Omon\n",
      "        title                                                                   IPSL-CM6A-LR model output prepared for CMIP6 / ScenarioMIP AerChemMIP ...\n",
      "        tracking_id                                                             hdl:21.14100/1972337d-3f68-468d-8adb-a9ef2548fd56\n",
      "        variable_id                                                             fgco2\n",
      "        variant_info                                                            Each member starts from the corresponding member of its parent experiment....\n",
      "        variant_label                                                           r1i1p1f1\n"
     ]
    }
   ],
   "source": [
    "fgco2 = my_cube[1]\n",
    "print(fgco2)"
   ]
  },
  {
   "cell_type": "code",
   "execution_count": 58,
   "id": "df6f8136-3371-4a71-9876-373d3cbc728d",
   "metadata": {},
   "outputs": [
    {
     "name": "stdout",
     "output_type": "stream",
     "text": [
      "surface_downward_mass_flux_of_carbon_dioxide_expressed_as_carbon / (kg m-2 s-1) (-- : 332; -- : 362)\n",
      "    Auxiliary coordinates:\n",
      "        latitude                                                                    x         x\n",
      "        longitude                                                                   x         x\n",
      "    Scalar coordinates:\n",
      "        depth                                                                   0.0 m\n",
      "        time                                                                    2015-01-16 12:00:00, bound=(2015-01-01 00:00:00, 2015-02-01 00:00:00)\n",
      "    Cell methods:\n",
      "        mean where sea                                                          area\n",
      "        mean                                                                    time\n",
      "    Attributes:\n",
      "        CMIP6_CV_version                                                        cv=6.2.3.5-2-g63b123e\n",
      "        Conventions                                                             CF-1.7 CMIP-6.2\n",
      "        EXPID                                                                   ssp370\n",
      "        activity_id                                                             ScenarioMIP AerChemMIP\n",
      "        branch_method                                                           standard\n",
      "        branch_time_in_child                                                    0.0\n",
      "        branch_time_in_parent                                                   60265.0\n",
      "        contact                                                                 ipsl-cmip6@listes.ipsl.fr\n",
      "        creation_date                                                           2018-12-18T20:37:48Z\n",
      "        data_specs_version                                                      01.00.28\n",
      "        description                                                             Gas exchange flux of CO2 (positive into ocean)\n",
      "        dr2xml_md5sum                                                           c2dce418e78ca835be1e2ff817c2c403\n",
      "        dr2xml_version                                                          1.16\n",
      "        experiment                                                              gap-filling scenario reaching 7.0 based on SSP3\n",
      "        experiment_id                                                           ssp370\n",
      "        external_variables                                                      areacello\n",
      "        forcing_index                                                           1\n",
      "        frequency                                                               mon\n",
      "        further_info_url                                                        https://furtherinfo.es-doc.org/CMIP6.IPSL.IPSL-CM6A-LR.ssp370.none.r1i...\n",
      "        grid                                                                    native ocean tri-polar grid with 105 k ocean cells\n",
      "        grid_label                                                              gn\n",
      "        history                                                                 none\n",
      "        initialization_index                                                    1\n",
      "        institution                                                             Institut Pierre Simon Laplace, Paris 75252, France\n",
      "        institution_id                                                          IPSL\n",
      "        interval_operation                                                      2700 s\n",
      "        interval_write                                                          1 month\n",
      "        license                                                                 CMIP6 model data produced by IPSL is licensed under a Creative Commons...\n",
      "        mip_era                                                                 CMIP6\n",
      "        model_version                                                           6.1.8\n",
      "        name                                                                    /ccc/work/cont003/gencmip6/p86caub/IGCM_OUT/IPSLCM6/PROD/ssp370/CM61-L...\n",
      "        nominal_resolution                                                      100 km\n",
      "        online_operation                                                        average\n",
      "        parent_activity_id                                                      CMIP\n",
      "        parent_experiment_id                                                    historical\n",
      "        parent_mip_era                                                          CMIP6\n",
      "        parent_source_id                                                        IPSL-CM6A-LR\n",
      "        parent_time_units                                                       days since 1850-01-01 00:00:00\n",
      "        parent_variant_label                                                    r1i1p1f1\n",
      "        physics_index                                                           1\n",
      "        positive                                                                down\n",
      "        product                                                                 model-output\n",
      "        realization_index                                                       1\n",
      "        realm                                                                   ocnBgchem\n",
      "        source                                                                  IPSL-CM6A-LR (2017):  atmos: LMDZ (NPv6, N96; 144 x 143 longitude/latitude;...\n",
      "        source_id                                                               IPSL-CM6A-LR\n",
      "        source_type                                                             AOGCM BGC\n",
      "        sub_experiment                                                          none\n",
      "        sub_experiment_id                                                       none\n",
      "        table_id                                                                Omon\n",
      "        title                                                                   IPSL-CM6A-LR model output prepared for CMIP6 / ScenarioMIP AerChemMIP ...\n",
      "        tracking_id                                                             hdl:21.14100/1972337d-3f68-468d-8adb-a9ef2548fd56\n",
      "        variable_id                                                             fgco2\n",
      "        variant_info                                                            Each member starts from the corresponding member of its parent experiment....\n",
      "        variant_label                                                           r1i1p1f1\n"
     ]
    },
    {
     "data": {
      "text/plain": [
       "<matplotlib.collections.QuadMesh at 0x7fb68130d8b0>"
      ]
     },
     "execution_count": 58,
     "metadata": {},
     "output_type": "execute_result"
    },
    {
     "data": {
      "image/png": "[encoded data removed]",
      "text/plain": [
       "<Figure size 432x288 with 2 Axes>"
      ]
     },
     "metadata": {
      "needs_background": "light"
     },
     "output_type": "display_data"
    }
   ],
   "source": [
    "# three coords time, lat, lon\n",
    "lat_long_data_from_1st_time_step = fgco2[0,:,:]\n",
    "lat_long_data_from_2nd_time_step = fgco2[2,:,:]\n",
    "time_long_data_from_1st_latitude_step = fgco2[:,0,:]\n",
    "time_lat_data_from_1st_litudeong_step = fgco2[:,:,0]\n",
    "siconc_at_time_zero = fgco2[0,:,:]\n",
    "print(siconc_at_time_zero)\n",
    "qplt.pcolormesh(siconc_at_time_zero)"
   ]
  },
  {
   "cell_type": "code",
   "execution_count": null,
   "id": "4dc31f8c-0e1d-4953-841e-18834dddda4c",
   "metadata": {},
   "outputs": [],
   "source": []
  },
  {
   "cell_type": "code",
   "execution_count": 77,
   "id": "f32c7af9-ff8f-4515-9dca-3d3230089c76",
   "metadata": {},
   "outputs": [
    {
     "name": "stdout",
     "output_type": "stream",
     "text": [
      "All times :\n",
      "DimCoord([2015-01-16 12:00:00, 2015-02-15 00:00:00, 2015-03-16 12:00:00, ...,\n",
      "       2100-10-16 12:00:00, 2100-11-16 00:00:00, 2100-12-16 12:00:00], bounds=[[2015-01-01 00:00:00, 2015-02-01 00:00:00],\n",
      "       [2015-02-01 00:00:00, 2015-03-01 00:00:00],\n",
      "       [2015-03-01 00:00:00, 2015-04-01 00:00:00],\n",
      "       ...,\n",
      "       [2100-10-01 00:00:00, 2100-11-01 00:00:00],\n",
      "       [2100-11-01 00:00:00, 2100-12-01 00:00:00],\n",
      "       [2100-12-01 00:00:00, 2101-01-01 00:00:00]], standard_name='time', calendar='gregorian', long_name='Time axis', var_name='time', attributes={'time_origin': '2015-01-01 00:00:00'})\n",
      "Selected times :\n",
      "DimCoord([2015-01-16 12:00:00, 2015-02-15 00:00:00, 2015-03-16 12:00:00, ...,\n",
      "       2100-10-16 12:00:00, 2100-11-16 00:00:00, 2100-12-16 12:00:00], bounds=[[2015-01-01 00:00:00, 2015-02-01 00:00:00],\n",
      "       [2015-02-01 00:00:00, 2015-03-01 00:00:00],\n",
      "       [2015-03-01 00:00:00, 2015-04-01 00:00:00],\n",
      "       ...,\n",
      "       [2100-10-01 00:00:00, 2100-11-01 00:00:00],\n",
      "       [2100-11-01 00:00:00, 2100-12-01 00:00:00],\n",
      "       [2100-12-01 00:00:00, 2101-01-01 00:00:00]], standard_name='time', calendar='gregorian', long_name='Time axis', var_name='time', attributes={'time_origin': '2015-01-01 00:00:00'})\n"
     ]
    }
   ],
   "source": [
    "print('All times :\\n' + str(fgco2.coord('time')))\n",
    "# Define a function which accepts a datetime as its argument (this is simplified in later examples).\n",
    "hour_11 = iris.Constraint(time=lambda cell: cell.point.hour == 11)\n",
    "cube_11 = fgco2.extract(hour_11)\n",
    "print('Selected times :\\n' + str(fgco2.coord('time')))"
   ]
  },
  {
   "cell_type": "code",
   "execution_count": null,
   "id": "8bb746ac-d83f-4c83-9fc3-c05a98a97e80",
   "metadata": {},
   "outputs": [],
   "source": []
  },
  {
   "cell_type": "code",
   "execution_count": null,
   "id": "10de893f-2e57-408f-b907-8ef1b5339794",
   "metadata": {},
   "outputs": [],
   "source": []
  },
  {
   "cell_type": "code",
   "execution_count": 38,
   "id": "d5b23b43-9f1a-4f09-9053-e0f9cadef14f",
   "metadata": {},
   "outputs": [
    {
     "data": {
      "text/plain": [
       "[<matplotlib.lines.Line2D at 0x7fb7286fa9d0>]"
      ]
     },
     "execution_count": 38,
     "metadata": {},
     "output_type": "execute_result"
    },
    {
     "data": {
      "image/png": "[encoded data removed]",
      "text/plain": [
       "<Figure size 432x288 with 1 Axes>"
      ]
     },
     "metadata": {
      "needs_background": "light"
     },
     "output_type": "display_data"
    }
   ],
   "source": [
    "lat = -75\n",
    "lon = -175\n",
    "\n",
    "plt.plot(fgco2[:,lat,lon].data)"
   ]
  },
  {
   "cell_type": "code",
   "execution_count": 39,
   "id": "3613cd65-6146-40c9-84bc-9c6d7ed5614b",
   "metadata": {},
   "outputs": [
    {
     "data": {
      "text/plain": [
       "[<matplotlib.lines.Line2D at 0x7fb6801d6130>]"
      ]
     },
     "execution_count": 39,
     "metadata": {},
     "output_type": "execute_result"
    },
    {
     "data": {
      "image/png": "[encoded data removed]",
      "text/plain": [
       "<Figure size 432x288 with 1 Axes>"
      ]
     },
     "metadata": {
      "needs_background": "light"
     },
     "output_type": "display_data"
    }
   ],
   "source": [
    "qplt.plot(fgco2[:,lat,lon])"
   ]
  },
  {
   "cell_type": "code",
   "execution_count": null,
   "id": "d2602850-d36c-4680-8cd0-3a4063183a7f",
   "metadata": {},
   "outputs": [],
   "source": []
  },
  {
   "cell_type": "code",
   "execution_count": 11,
   "id": "702b347f-378b-4c1c-991b-181fee379745",
   "metadata": {},
   "outputs": [
    {
     "name": "stdout",
     "output_type": "stream",
     "text": [
      "time\n",
      "depth\n",
      "latitude\n",
      "longitude\n"
     ]
    }
   ],
   "source": [
    "for coord in fgco2.coords():\n",
    "    print(coord.name())"
   ]
  },
  {
   "cell_type": "code",
   "execution_count": null,
   "id": "52371319-9374-4302-a782-a858163b1144",
   "metadata": {},
   "outputs": [],
   "source": [
    "\n"
   ]
  },
  {
   "cell_type": "code",
   "execution_count": null,
   "id": "02c63acd-f10d-45fe-b1a2-b311ba4932d7",
   "metadata": {},
   "outputs": [],
   "source": []
  },
  {
   "cell_type": "code",
   "execution_count": null,
   "id": "1f886cbc-48dc-4897-b160-dd855bf6ff75",
   "metadata": {},
   "outputs": [],
   "source": [
    "\n",
    "\n",
    "\n"
   ]
  },
  {
   "cell_type": "code",
   "execution_count": null,
   "id": "9b603b61-e6a6-490d-adca-24cec0b20486",
   "metadata": {},
   "outputs": [],
   "source": []
  }
 ],
 "metadata": {
  "kernelspec": {
   "display_name": "Python 3 (ipykernel)",
   "language": "python",
   "name": "python3"
  },
  "language_info": {
   "codemirror_mode": {
    "name": "ipython",
    "version": 3
   },
   "file_extension": ".py",
   "mimetype": "text/x-python",
   "name": "python",
   "nbconvert_exporter": "python",
   "pygments_lexer": "ipython3",
   "version": "3.9.5"
  }
 },
 "nbformat": 4,
 "nbformat_minor": 5
}
