{
 "cells": [
  {
   "cell_type": "code",
   "execution_count": 29,
   "id": "82544bff-519b-4694-b5e3-8daa786f4af8",
   "metadata": {},
   "outputs": [
    {
     "name": "stderr",
     "output_type": "stream",
     "text": [
      "/Users/alicebrindley/opt/miniconda3/lib/python3.9/site-packages/iris/fileformats/cf.py:859: UserWarning: Missing CF-netCDF measure variable 'areacello', referenced by netCDF variable 'siconc'\n",
      "  warnings.warn(\n",
      "/Users/alicebrindley/opt/miniconda3/lib/python3.9/site-packages/iris/fileformats/cf.py:859: UserWarning: Missing CF-netCDF measure variable 'areacello', referenced by netCDF variable 'fgco2'\n",
      "  warnings.warn(\n"
     ]
    },
    {
     "data": {
      "image/png": "[encoded data removed]",
      "text/plain": [
       "<Figure size 432x288 with 1 Axes>"
      ]
     },
     "metadata": {
      "needs_background": "light"
     },
     "output_type": "display_data"
    },
    {
     "name": "stdout",
     "output_type": "stream",
     "text": [
      "sea_ice_area_fraction / (%)         (scalar cube)\n",
      "    Scalar coordinates:\n",
      "        latitude                    -72.5 degrees, bound=(-73.0, -72.0) degrees\n",
      "        longitude                   -160.0 degrees, bound=(-211.0, -109.0) degrees\n",
      "        time                        2015-01-16 12:00:00, bound=(2015-01-01 00:00:00, 2015-02-01 00:00:00)\n",
      "    Cell methods:\n",
      "        mean where sea              area\n",
      "        mean                        time\n",
      "        mean                        longitude\n",
      "    Attributes:\n",
      "        Conventions                 CF-1.7 CMIP-6.0 UGRID-1.0\n",
      "        activity_id                 ScenarioMIP\n",
      "        branch_method               standard\n",
      "        branch_time_in_child        0.0\n",
      "        branch_time_in_parent       60225.0\n",
      "        comment                     Model data on the 1x1 grid includes values in all cells for which any ocean...\n",
      "        contact                     gfdl.climate.model.info@noaa.gov\n",
      "        creation_date               2019-03-18T13:44:33Z\n",
      "        data_specs_version          01.00.27\n",
      "        experiment                  update of RCP8.5 based on SSP5\n",
      "        experiment_id               ssp585\n",
      "        external_variables          areacello\n",
      "        forcing_index               1\n",
      "        frequency                   mon\n",
      "        further_info_url            https://furtherinfo.es-doc.org/CMIP6.NOAA-GFDL.GFDL-CM4.ssp585.none.r1...\n",
      "        grid                        seaIce data regridded from tripolar - nominal 0.25 deg latitude/longitude...\n",
      "        grid_label                  gr\n",
      "        history                     File was processed by fremetar (GFDL analog of CMOR). TripleID: [exper...\n",
      "        initialization_index        1\n",
      "        institution                 National Oceanic and Atmospheric Administration, Geophysical Fluid Dynamics...\n",
      "        institution_id              NOAA-GFDL\n",
      "        interp_method               conserve_order1\n",
      "        license                     CMIP6 model data produced by NOAA-GFDL is licensed under a Creative Commons...\n",
      "        mip_era                     CMIP6\n",
      "        nominal_resolution          1x1 degree\n",
      "        original_name               siconc\n",
      "        parent_activity_id          CMIP\n",
      "        parent_experiment_id        historical\n",
      "        parent_mip_era              CMIP6\n",
      "        parent_source_id            GFDL-CM4\n",
      "        parent_time_units           days since 1850-1-1\n",
      "        parent_variant_label        r1i1p1f1\n",
      "        physics_index               1\n",
      "        product                     model-output\n",
      "        realization_index           1\n",
      "        realm                       seaIce\n",
      "        references                  see further_info_url attribute\n",
      "        source                      'GFDL-CM4 (2018): \\naerosol: interactive\\natmos: GFDL-AM4.0.1 (Cubed-sphere...\n",
      "        source_id                   GFDL-CM4\n",
      "        source_type                 AOGCM\n",
      "        sub_experiment              none\n",
      "        sub_experiment_id           none\n",
      "        table_id                    SImon\n",
      "        title                       NOAA GFDL GFDL-CM4 model output prepared for CMIP6 update of RCP8.5 based...\n",
      "        tracking_id                 hdl:21.14100/6e5f0ab4-6e13-4f4f-93df-586b9b387b09\n",
      "        variable_id                 siconc\n",
      "        variant_info                N/A\n",
      "        variant_label               r1i1p1f1\n"
     ]
    },
    {
     "data": {
      "image/png": "[encoded data removed]",
      "text/plain": [
       "<Figure size 432x288 with 1 Axes>"
      ]
     },
     "metadata": {
      "needs_background": "light"
     },
     "output_type": "display_data"
    },
    {
     "name": "stdout",
     "output_type": "stream",
     "text": [
      "sea_ice_area_fraction / (%)         (scalar cube)\n",
      "    Scalar coordinates:\n",
      "        latitude                    -72.5 degrees, bound=(-73.0, -72.0) degrees\n",
      "        longitude                   -160.0 degrees, bound=(-211.0, -109.0) degrees\n",
      "        time                        2015-02-15 00:00:00, bound=(2015-02-01 00:00:00, 2015-03-01 00:00:00)\n",
      "    Cell methods:\n",
      "        mean where sea              area\n",
      "        mean                        time\n",
      "        mean                        longitude\n",
      "    Attributes:\n",
      "        Conventions                 CF-1.7 CMIP-6.0 UGRID-1.0\n",
      "        activity_id                 ScenarioMIP\n",
      "        branch_method               standard\n",
      "        branch_time_in_child        0.0\n",
      "        branch_time_in_parent       60225.0\n",
      "        comment                     Model data on the 1x1 grid includes values in all cells for which any ocean...\n",
      "        contact                     gfdl.climate.model.info@noaa.gov\n",
      "        creation_date               2019-03-18T13:44:33Z\n",
      "        data_specs_version          01.00.27\n",
      "        experiment                  update of RCP8.5 based on SSP5\n",
      "        experiment_id               ssp585\n",
      "        external_variables          areacello\n",
      "        forcing_index               1\n",
      "        frequency                   mon\n",
      "        further_info_url            https://furtherinfo.es-doc.org/CMIP6.NOAA-GFDL.GFDL-CM4.ssp585.none.r1...\n",
      "        grid                        seaIce data regridded from tripolar - nominal 0.25 deg latitude/longitude...\n",
      "        grid_label                  gr\n",
      "        history                     File was processed by fremetar (GFDL analog of CMOR). TripleID: [exper...\n",
      "        initialization_index        1\n",
      "        institution                 National Oceanic and Atmospheric Administration, Geophysical Fluid Dynamics...\n",
      "        institution_id              NOAA-GFDL\n",
      "        interp_method               conserve_order1\n",
      "        license                     CMIP6 model data produced by NOAA-GFDL is licensed under a Creative Commons...\n",
      "        mip_era                     CMIP6\n",
      "        nominal_resolution          1x1 degree\n",
      "        original_name               siconc\n",
      "        parent_activity_id          CMIP\n",
      "        parent_experiment_id        historical\n",
      "        parent_mip_era              CMIP6\n",
      "        parent_source_id            GFDL-CM4\n",
      "        parent_time_units           days since 1850-1-1\n",
      "        parent_variant_label        r1i1p1f1\n",
      "        physics_index               1\n",
      "        product                     model-output\n",
      "        realization_index           1\n",
      "        realm                       seaIce\n",
      "        references                  see further_info_url attribute\n",
      "        source                      'GFDL-CM4 (2018): \\naerosol: interactive\\natmos: GFDL-AM4.0.1 (Cubed-sphere...\n",
      "        source_id                   GFDL-CM4\n",
      "        source_type                 AOGCM\n",
      "        sub_experiment              none\n",
      "        sub_experiment_id           none\n",
      "        table_id                    SImon\n",
      "        title                       NOAA GFDL GFDL-CM4 model output prepared for CMIP6 update of RCP8.5 based...\n",
      "        tracking_id                 hdl:21.14100/6e5f0ab4-6e13-4f4f-93df-586b9b387b09\n",
      "        variable_id                 siconc\n",
      "        variant_info                N/A\n",
      "        variant_label               r1i1p1f1\n"
     ]
    },
    {
     "data": {
      "image/png": "[encoded data removed]",
      "text/plain": [
       "<Figure size 432x288 with 1 Axes>"
      ]
     },
     "metadata": {
      "needs_background": "light"
     },
     "output_type": "display_data"
    },
    {
     "name": "stdout",
     "output_type": "stream",
     "text": [
      "sea_ice_area_fraction / (%)         (scalar cube)\n",
      "    Scalar coordinates:\n",
      "        latitude                    -72.5 degrees, bound=(-73.0, -72.0) degrees\n",
      "        longitude                   -160.0 degrees, bound=(-211.0, -109.0) degrees\n",
      "        time                        2015-03-16 12:00:00, bound=(2015-03-01 00:00:00, 2015-04-01 00:00:00)\n",
      "    Cell methods:\n",
      "        mean where sea              area\n",
      "        mean                        time\n",
      "        mean                        longitude\n",
      "    Attributes:\n",
      "        Conventions                 CF-1.7 CMIP-6.0 UGRID-1.0\n",
      "        activity_id                 ScenarioMIP\n",
      "        branch_method               standard\n",
      "        branch_time_in_child        0.0\n",
      "        branch_time_in_parent       60225.0\n",
      "        comment                     Model data on the 1x1 grid includes values in all cells for which any ocean...\n",
      "        contact                     gfdl.climate.model.info@noaa.gov\n",
      "        creation_date               2019-03-18T13:44:33Z\n",
      "        data_specs_version          01.00.27\n",
      "        experiment                  update of RCP8.5 based on SSP5\n",
      "        experiment_id               ssp585\n",
      "        external_variables          areacello\n",
      "        forcing_index               1\n",
      "        frequency                   mon\n",
      "        further_info_url            https://furtherinfo.es-doc.org/CMIP6.NOAA-GFDL.GFDL-CM4.ssp585.none.r1...\n",
      "        grid                        seaIce data regridded from tripolar - nominal 0.25 deg latitude/longitude...\n",
      "        grid_label                  gr\n",
      "        history                     File was processed by fremetar (GFDL analog of CMOR). TripleID: [exper...\n",
      "        initialization_index        1\n",
      "        institution                 National Oceanic and Atmospheric Administration, Geophysical Fluid Dynamics...\n",
      "        institution_id              NOAA-GFDL\n",
      "        interp_method               conserve_order1\n",
      "        license                     CMIP6 model data produced by NOAA-GFDL is licensed under a Creative Commons...\n",
      "        mip_era                     CMIP6\n",
      "        nominal_resolution          1x1 degree\n",
      "        original_name               siconc\n",
      "        parent_activity_id          CMIP\n",
      "        parent_experiment_id        historical\n",
      "        parent_mip_era              CMIP6\n",
      "        parent_source_id            GFDL-CM4\n",
      "        parent_time_units           days since 1850-1-1\n",
      "        parent_variant_label        r1i1p1f1\n",
      "        physics_index               1\n",
      "        product                     model-output\n",
      "        realization_index           1\n",
      "        realm                       seaIce\n",
      "        references                  see further_info_url attribute\n",
      "        source                      'GFDL-CM4 (2018): \\naerosol: interactive\\natmos: GFDL-AM4.0.1 (Cubed-sphere...\n",
      "        source_id                   GFDL-CM4\n",
      "        source_type                 AOGCM\n",
      "        sub_experiment              none\n",
      "        sub_experiment_id           none\n",
      "        table_id                    SImon\n",
      "        title                       NOAA GFDL GFDL-CM4 model output prepared for CMIP6 update of RCP8.5 based...\n",
      "        tracking_id                 hdl:21.14100/6e5f0ab4-6e13-4f4f-93df-586b9b387b09\n",
      "        variable_id                 siconc\n",
      "        variant_info                N/A\n",
      "        variant_label               r1i1p1f1\n"
     ]
    },
    {
     "data": {
      "image/png": "[encoded data removed]",
      "text/plain": [
       "<Figure size 432x288 with 1 Axes>"
      ]
     },
     "metadata": {
      "needs_background": "light"
     },
     "output_type": "display_data"
    },
    {
     "name": "stdout",
     "output_type": "stream",
     "text": [
      "sea_ice_area_fraction / (%)         (scalar cube)\n",
      "    Scalar coordinates:\n",
      "        latitude                    -72.5 degrees, bound=(-73.0, -72.0) degrees\n",
      "        longitude                   -160.0 degrees, bound=(-211.0, -109.0) degrees\n",
      "        time                        2015-04-16 00:00:00, bound=(2015-04-01 00:00:00, 2015-05-01 00:00:00)\n",
      "    Cell methods:\n",
      "        mean where sea              area\n",
      "        mean                        time\n",
      "        mean                        longitude\n",
      "    Attributes:\n",
      "        Conventions                 CF-1.7 CMIP-6.0 UGRID-1.0\n",
      "        activity_id                 ScenarioMIP\n",
      "        branch_method               standard\n",
      "        branch_time_in_child        0.0\n",
      "        branch_time_in_parent       60225.0\n",
      "        comment                     Model data on the 1x1 grid includes values in all cells for which any ocean...\n",
      "        contact                     gfdl.climate.model.info@noaa.gov\n",
      "        creation_date               2019-03-18T13:44:33Z\n",
      "        data_specs_version          01.00.27\n",
      "        experiment                  update of RCP8.5 based on SSP5\n",
      "        experiment_id               ssp585\n",
      "        external_variables          areacello\n",
      "        forcing_index               1\n",
      "        frequency                   mon\n",
      "        further_info_url            https://furtherinfo.es-doc.org/CMIP6.NOAA-GFDL.GFDL-CM4.ssp585.none.r1...\n",
      "        grid                        seaIce data regridded from tripolar - nominal 0.25 deg latitude/longitude...\n",
      "        grid_label                  gr\n",
      "        history                     File was processed by fremetar (GFDL analog of CMOR). TripleID: [exper...\n",
      "        initialization_index        1\n",
      "        institution                 National Oceanic and Atmospheric Administration, Geophysical Fluid Dynamics...\n",
      "        institution_id              NOAA-GFDL\n",
      "        interp_method               conserve_order1\n",
      "        license                     CMIP6 model data produced by NOAA-GFDL is licensed under a Creative Commons...\n",
      "        mip_era                     CMIP6\n",
      "        nominal_resolution          1x1 degree\n",
      "        original_name               siconc\n",
      "        parent_activity_id          CMIP\n",
      "        parent_experiment_id        historical\n",
      "        parent_mip_era              CMIP6\n",
      "        parent_source_id            GFDL-CM4\n",
      "        parent_time_units           days since 1850-1-1\n",
      "        parent_variant_label        r1i1p1f1\n",
      "        physics_index               1\n",
      "        product                     model-output\n",
      "        realization_index           1\n",
      "        realm                       seaIce\n",
      "        references                  see further_info_url attribute\n",
      "        source                      'GFDL-CM4 (2018): \\naerosol: interactive\\natmos: GFDL-AM4.0.1 (Cubed-sphere...\n",
      "        source_id                   GFDL-CM4\n",
      "        source_type                 AOGCM\n",
      "        sub_experiment              none\n",
      "        sub_experiment_id           none\n",
      "        table_id                    SImon\n",
      "        title                       NOAA GFDL GFDL-CM4 model output prepared for CMIP6 update of RCP8.5 based...\n",
      "        tracking_id                 hdl:21.14100/6e5f0ab4-6e13-4f4f-93df-586b9b387b09\n",
      "        variable_id                 siconc\n",
      "        variant_info                N/A\n",
      "        variant_label               r1i1p1f1\n"
     ]
    },
    {
     "data": {
      "image/png": "[encoded data removed]",
      "text/plain": [
       "<Figure size 432x288 with 1 Axes>"
      ]
     },
     "metadata": {
      "needs_background": "light"
     },
     "output_type": "display_data"
    },
    {
     "ename": "IndexError",
     "evalue": "too many indices for array: array is 1-dimensional, but 3 were indexed",
     "output_type": "error",
     "traceback": [
      "\u001b[0;31m---------------------------------------------------------------------------\u001b[0m",
      "\u001b[0;31mIndexError\u001b[0m                                Traceback (most recent call last)",
      "\u001b[0;32m/var/folders/k_/kjd3hqlx6qb62y71t7q2cs7r0000gn/T/ipykernel_42203/521517440.py\u001b[0m in \u001b[0;36m<module>\u001b[0;34m\u001b[0m\n\u001b[1;32m    100\u001b[0m         \u001b[0;31m#plot this data\u001b[0m\u001b[0;34m\u001b[0m\u001b[0;34m\u001b[0m\u001b[0;34m\u001b[0m\u001b[0m\n\u001b[1;32m    101\u001b[0m \u001b[0;34m\u001b[0m\u001b[0m\n\u001b[0;32m--> 102\u001b[0;31m         \u001b[0mpolynya_location_cube_data\u001b[0m\u001b[0;34m[\u001b[0m\u001b[0mi\u001b[0m\u001b[0;34m,\u001b[0m\u001b[0;34m:\u001b[0m\u001b[0;34m,\u001b[0m\u001b[0;34m:\u001b[0m\u001b[0;34m]\u001b[0m \u001b[0;34m=\u001b[0m \u001b[0mpolynya_location\u001b[0m\u001b[0;34m\u001b[0m\u001b[0;34m\u001b[0m\u001b[0m\n\u001b[0m\u001b[1;32m    103\u001b[0m \u001b[0;34m\u001b[0m\u001b[0m\n\u001b[1;32m    104\u001b[0m         \u001b[0;31m#plot this data\u001b[0m\u001b[0;34m\u001b[0m\u001b[0;34m\u001b[0m\u001b[0;34m\u001b[0m\u001b[0m\n",
      "\u001b[0;31mIndexError\u001b[0m: too many indices for array: array is 1-dimensional, but 3 were indexed"
     ]
    }
   ],
   "source": [
    "import cartopy.crs as ccrs\n",
    "import matplotlib.pyplot as plt\n",
    "import iris.analysis.cartography\n",
    "import iris.plot as iplt\n",
    "import iris.quickplot as qplt\n",
    "import numpy as np\n",
    "import matplotlib.ticker as mticker \n",
    "from numpy import *\n",
    "from matplotlib.pyplot import *\n",
    "from iris.analysis import *\n",
    "from iris.coord_categorisation import * \n",
    "from iris.analysis.cartography import * \n",
    "from scipy.stats import *\n",
    "from scipy.stats.mstats import *\n",
    "from iris import *\n",
    "\n",
    "fname = '/Users/alicebrindley/Dropbox/YEAR_3/Dissertation/Models/dissertation_script/siconc_SImon_GFDL-CM4_ssp585_r1i1p1f1_gr_201501-210012.nc'\n",
    "cube = iris.load(fname)\n",
    "cube2=cube[2]\n",
    "\n",
    "#add_month_number(siconc, 'time', name='month_number2')\n",
    "#cube2 = siconc[np.where((siconc.coord('month_number2').points == 12))]\n",
    "#then to average this by each year, so that you have the December-Jan for\n",
    "#add_season_year(cube2, 'time', name='season_year')\n",
    "#then average by the season year:\n",
    "#cube2.aggregated_by(['season_year'], iris.analysis.MEAN)\n",
    "\n",
    "fgname = ('/Users/alicebrindley/Dropbox/YEAR_3/Dissertation/fgco2_files/fgco2_picontrol/outfile')\n",
    "fgcube = iris.load(fgname)\n",
    "fgcube2 = fgcube[2]\n",
    "\n",
    "\n",
    "#extract Jan and Dec to average the sea ice concentration across these mon\n",
    "#add_month_number(fgcube1, 'time', name='month_number1')\n",
    "#fgcube2 = fgcube1[np.where((fgcube1.coord('month_number1').points == 12))]\n",
    "#then to average this by each year, so that you have the December-Jan for\n",
    "#add_season_year(fgcube2, 'time', name='season_year')\n",
    "#then average by the season year:\n",
    "#fgcube2.aggregated_by(['season_year'], iris.analysis.MEAN)\n",
    "#cube2 is therefore the data per season\n",
    "\n",
    "#start of the loop\n",
    "for i in range (0,2101-2015):\n",
    "    cube3=cube2[i,:,:]\n",
    "    west = -210 \n",
    "    east = -110 \n",
    "    south = -82 \n",
    "    north = -69\n",
    "    temporary_cube = cube3.intersection(longitude = (west, east)) \n",
    "    regional_cube = temporary_cube.intersection(latitude = (south, north))\n",
    "    ax1 = plt.subplot(111,projection=ccrs.PlateCarree(central_longitude=np.round(west + (east - west)/2.0)))\n",
    "    my_plot = iplt.contourf(regional_cube)\n",
    "    plt.gca().gridlines(draw_labels=True)\n",
    "    plt.show()\n",
    "    \n",
    "    fgcube3=fgcube2[i,:,:]\n",
    "\n",
    "    fg_temporary_cube = fgcube3.intersection(longitude = (west, east)) \n",
    "    fg_regional_cube = fg_temporary_cube.intersection(latitude = (south, north))\n",
    "    ax1 = plt.subplot(111,projection=ccrs.PlateCarree(central_longitude=np.round(west + (east - west)/2.0)))\n",
    "    my_plot = iplt.contourf(fg_regional_cube)\n",
    "    plt.gca().gridlines(draw_labels=True)\n",
    "    #print(fgcube3.coord('time'))\n",
    "    #plt.show()\n",
    "\n",
    "#extract the latitude I want to work with\n",
    "    #north_edge = regional_cube.collapsed('latitude', iris.analysis.MEAN)\n",
    "    #average across this latitude\n",
    "    #nE_mean = north_edge.collapsed('longitude', iris.analysis.MEAN)\n",
    "    #print(nE_mean.data)\n",
    "    #latitude = -72,-72.5,-73,-73.5,-74,-74.5,-75\n",
    "    #grid_areas = area_weights(regional_cube)\n",
    "    #average_variable = regional_cube.collapsed(['latitude', 'longitude'],MEAN,weights=grid_areas)\n",
    "    #print(average_variable.data)\n",
    "    \n",
    "    north_edge = regional_cube.extract(iris.Constraint(latitude=-72))\n",
    "    #average across this latitude\n",
    "    nE_mean = north_edge.collapsed('longitude', iris.analysis.MEAN)\n",
    "    print(nE_mean)\n",
    " \n",
    "    if nE_mean.data >=55:\n",
    "        #define siconc for polynya\n",
    "        polynya_threshold=regional_cube.data\n",
    "        polynya = np.where((polynya_threshold.data <=10) & (nE_mean.data >=55))\n",
    "        #print(polynya)\n",
    "        polynya = polynya_threshold.data\n",
    "        #plt.pcolormesh(polynya_threshold.data,vmin=0,vmax=100)\n",
    "        plt.show()\n",
    "\n",
    "        #define a variable to hold the threshold number you are interested in\n",
    "        polynya_threshold_value = 30.0\n",
    "        #Take a copy of the seaice data that we are going to use to make a binary 'mask' showing presence of absense of polynyas as 1s and 0s\n",
    "        polynya_location = polynya_threshold.data.copy()\n",
    "        #set that land data in this mask to nan (Not a number) so we don;t get confused (these will show up white in a typical plot)\n",
    "        polynya_location[np.where(polynya_location >= 1.0e9)] = np.nan\n",
    "        #make water that has more ice than our polynia condition equal to zero.\n",
    "        polynya_location[np.where((polynya_location <= 100.0) & (polynya_location > polynya_threshold_value))] = 0.0\n",
    "        #make water that has less ice than our polynia condition equal to zero to make where the polynya is\n",
    "        polynya_location[np.where((polynya_location > 0.0) & (polynya_location <= polynya_threshold_value))] = 1.0\n",
    "        #plot this data\n",
    "        \n",
    "        polynya_location_cube_data[i,:,:] = polynya_location\n",
    "        \n",
    "        #plot this data\n",
    "        plt.pcolormesh(polynya_location,vmin=0,vmax=1)\n",
    "        \n",
    "        plt.show()\n",
    "        \n",
    "#Put th polynia data array nack in to the cube wich holds al o fteh metadata etc.\n",
    "polynya_location_cube.data = polynya_location_cube_data\n",
    "        \n",
    "        #Note in this 1st situation, we have not tested to make sure the northern edge has >30% seaice and it has not, so it is eroniously identify\n",
    "        \n",
    "        \n",
    "        #total_temporary_cube = fg_regional_cube.intersection(longitude = (west, east)) \n",
    "        #total_regional_cube = total_temporary_cube.intersection(latitude = (south, north))\n",
    "        #ax1 = plt.subplot(111,projection=ccrs.PlateCarree(central_longitude=np.round(west + (east - west)/2.0)))\n",
    "        #qplt.pcolormesh(polynya_location.data * fg_regional_cube)"
   ]
  },
  {
   "cell_type": "code",
   "execution_count": null,
   "id": "9fc8436f-30f7-4333-8f00-6c303c235c83",
   "metadata": {},
   "outputs": [],
   "source": []
  },
  {
   "cell_type": "code",
   "execution_count": 30,
   "id": "0e1ead88-d149-4b52-b233-ba79ce74374f",
   "metadata": {},
   "outputs": [
    {
     "data": {
      "text/plain": [
       "<cartopy.mpl.gridliner.Gridliner at 0x7fd57a2c3cd0>"
      ]
     },
     "execution_count": 30,
     "metadata": {},
     "output_type": "execute_result"
    },
    {
     "data": {
      "image/png": "[encoded data removed]",
      "text/plain": [
       "<Figure size 432x288 with 1 Axes>"
      ]
     },
     "metadata": {
      "needs_background": "light"
     },
     "output_type": "display_data"
    }
   ],
   "source": [
    "ax1 = plt.subplot(111,projection=ccrs.PlateCarree(central_longitude=np.round(west + (east - west)/2.0))) \n",
    "my_plot = iplt.contourf(fg_regional_cube)\n",
    "plt.gca().gridlines(draw_labels=True)"
   ]
  },
  {
   "cell_type": "code",
   "execution_count": 31,
   "id": "9e0e4c56-9039-43eb-9336-41f385bd0eab",
   "metadata": {},
   "outputs": [
    {
     "ename": "NameError",
     "evalue": "name 'polynya_location_cube' is not defined",
     "output_type": "error",
     "traceback": [
      "\u001b[0;31m---------------------------------------------------------------------------\u001b[0m",
      "\u001b[0;31mNameError\u001b[0m                                 Traceback (most recent call last)",
      "\u001b[0;32m/var/folders/k_/kjd3hqlx6qb62y71t7q2cs7r0000gn/T/ipykernel_42203/236529032.py\u001b[0m in \u001b[0;36m<module>\u001b[0;34m\u001b[0m\n\u001b[1;32m      1\u001b[0m \u001b[0max1\u001b[0m \u001b[0;34m=\u001b[0m \u001b[0mplt\u001b[0m\u001b[0;34m.\u001b[0m\u001b[0msubplot\u001b[0m\u001b[0;34m(\u001b[0m\u001b[0;36m111\u001b[0m\u001b[0;34m,\u001b[0m\u001b[0mprojection\u001b[0m\u001b[0;34m=\u001b[0m\u001b[0mccrs\u001b[0m\u001b[0;34m.\u001b[0m\u001b[0mPlateCarree\u001b[0m\u001b[0;34m(\u001b[0m\u001b[0mcentral_longitude\u001b[0m\u001b[0;34m=\u001b[0m\u001b[0mnp\u001b[0m\u001b[0;34m.\u001b[0m\u001b[0mround\u001b[0m\u001b[0;34m(\u001b[0m\u001b[0mwest\u001b[0m \u001b[0;34m+\u001b[0m \u001b[0;34m(\u001b[0m\u001b[0meast\u001b[0m \u001b[0;34m-\u001b[0m \u001b[0mwest\u001b[0m\u001b[0;34m)\u001b[0m\u001b[0;34m/\u001b[0m\u001b[0;36m2.0\u001b[0m\u001b[0;34m)\u001b[0m\u001b[0;34m)\u001b[0m\u001b[0;34m)\u001b[0m\u001b[0;34m\u001b[0m\u001b[0;34m\u001b[0m\u001b[0m\n\u001b[0;32m----> 2\u001b[0;31m \u001b[0mmy_plot\u001b[0m \u001b[0;34m=\u001b[0m \u001b[0miplt\u001b[0m\u001b[0;34m.\u001b[0m\u001b[0mcontourf\u001b[0m\u001b[0;34m(\u001b[0m\u001b[0mpolynya_location_cube\u001b[0m\u001b[0;34m)\u001b[0m\u001b[0;34m\u001b[0m\u001b[0;34m\u001b[0m\u001b[0m\n\u001b[0m\u001b[1;32m      3\u001b[0m \u001b[0mplt\u001b[0m\u001b[0;34m.\u001b[0m\u001b[0mgca\u001b[0m\u001b[0;34m(\u001b[0m\u001b[0;34m)\u001b[0m\u001b[0;34m.\u001b[0m\u001b[0mgridlines\u001b[0m\u001b[0;34m(\u001b[0m\u001b[0mdraw_labels\u001b[0m\u001b[0;34m=\u001b[0m\u001b[0;32mTrue\u001b[0m\u001b[0;34m)\u001b[0m\u001b[0;34m\u001b[0m\u001b[0;34m\u001b[0m\u001b[0m\n",
      "\u001b[0;31mNameError\u001b[0m: name 'polynya_location_cube' is not defined"
     ]
    },
    {
     "data": {
      "image/png": "[encoded data removed]",
      "text/plain": [
       "<Figure size 432x288 with 1 Axes>"
      ]
     },
     "metadata": {
      "needs_background": "light"
     },
     "output_type": "display_data"
    }
   ],
   "source": [
    "ax1 = plt.subplot(111,projection=ccrs.PlateCarree(central_longitude=np.round(west + (east - west)/2.0)))\n",
    "my_plot = iplt.contourf(polynya_location_cube)\n",
    "plt.gca().gridlines(draw_labels=True)"
   ]
  },
  {
   "cell_type": "code",
   "execution_count": 90,
   "id": "c3c90cad-7c78-4654-bb88-8b416d5b7e6c",
   "metadata": {},
   "outputs": [
    {
     "data": {
      "text/plain": [
       "<matplotlib.collections.QuadMesh at 0x7f965caf6490>"
      ]
     },
     "execution_count": 90,
     "metadata": {},
     "output_type": "execute_result"
    },
    {
     "data": {
      "image/png": "[encoded data removed]",
      "text/plain": [
       "<Figure size 432x288 with 2 Axes>"
      ]
     },
     "metadata": {
      "needs_background": "light"
     },
     "output_type": "display_data"
    }
   ],
   "source": [
    "cube_result = polynya_location.data * fg_regional_cube\n",
    "total_temporary_cube = cube_result.intersection(longitude = (west, east)) \n",
    "total_regional_cube = total_temporary_cube.intersection(latitude = (south, north))\n",
    "ax1 = plt.subplot(111,projection=ccrs.PlateCarree(central_longitude=np.round(west + (east - west)/2.0)))\n",
    "qplt.pcolormesh(cube_result)"
   ]
  },
  {
   "cell_type": "code",
   "execution_count": 94,
   "id": "28ded514-0e21-4205-aa14-753683247e61",
   "metadata": {},
   "outputs": [
    {
     "ename": "TypeError",
     "evalue": "'int' object is not iterable",
     "output_type": "error",
     "traceback": [
      "\u001b[0;31m---------------------------------------------------------------------------\u001b[0m",
      "\u001b[0;31mTypeError\u001b[0m                                 Traceback (most recent call last)",
      "\u001b[0;32m/var/folders/k_/kjd3hqlx6qb62y71t7q2cs7r0000gn/T/ipykernel_22711/3738916533.py\u001b[0m in \u001b[0;36m<module>\u001b[0;34m\u001b[0m\n\u001b[0;32m----> 1\u001b[0;31m \u001b[0;32mfor\u001b[0m \u001b[0mi\u001b[0m \u001b[0;32min\u001b[0m \u001b[0mzip\u001b[0m\u001b[0;34m(\u001b[0m\u001b[0;36m0\u001b[0m\u001b[0;34m,\u001b[0m\u001b[0;36m2101\u001b[0m\u001b[0;34m-\u001b[0m\u001b[0;36m2015\u001b[0m\u001b[0;34m)\u001b[0m\u001b[0;34m:\u001b[0m\u001b[0;34m\u001b[0m\u001b[0;34m\u001b[0m\u001b[0m\n\u001b[0m\u001b[1;32m      2\u001b[0m     \u001b[0mpolynya\u001b[0m \u001b[0;34m=\u001b[0m \u001b[0mpolynya_location\u001b[0m\u001b[0;34m.\u001b[0m\u001b[0mdata\u001b[0m\u001b[0;34m[\u001b[0m\u001b[0mi\u001b[0m\u001b[0;34m,\u001b[0m\u001b[0;34m:\u001b[0m\u001b[0;34m]\u001b[0m\u001b[0;34m\u001b[0m\u001b[0;34m\u001b[0m\u001b[0m\n\u001b[1;32m      3\u001b[0m     \u001b[0mfg\u001b[0m \u001b[0;34m=\u001b[0m \u001b[0mfg_regional_cube\u001b[0m\u001b[0;34m[\u001b[0m\u001b[0mi\u001b[0m\u001b[0;34m,\u001b[0m\u001b[0;34m:\u001b[0m\u001b[0;34m]\u001b[0m\u001b[0;34m\u001b[0m\u001b[0;34m\u001b[0m\u001b[0m\n\u001b[1;32m      4\u001b[0m \u001b[0;34m\u001b[0m\u001b[0m\n\u001b[1;32m      5\u001b[0m     \u001b[0mcube_result\u001b[0m \u001b[0;34m=\u001b[0m \u001b[0mpolynya\u001b[0m \u001b[0;34m*\u001b[0m \u001b[0mfg\u001b[0m\u001b[0;34m\u001b[0m\u001b[0;34m\u001b[0m\u001b[0m\n",
      "\u001b[0;31mTypeError\u001b[0m: 'int' object is not iterable"
     ]
    }
   ],
   "source": [
    "for i in zip(0,2101-2015):\n",
    "    polynya = polynya_location.data[i,:]\n",
    "    fg = fg_regional_cube[i,:]\n",
    "\n",
    "    cube_result = polynya * fg\n",
    "    \n",
    "    qplt.pcolormesh(cube_result)"
   ]
  },
  {
   "cell_type": "code",
   "execution_count": 95,
   "id": "53ea71ed-0400-449f-b226-446219e2f728",
   "metadata": {},
   "outputs": [
    {
     "ename": "TypeError",
     "evalue": "'int' object is not iterable",
     "output_type": "error",
     "traceback": [
      "\u001b[0;31m---------------------------------------------------------------------------\u001b[0m",
      "\u001b[0;31mTypeError\u001b[0m                                 Traceback (most recent call last)",
      "\u001b[0;32m/var/folders/k_/kjd3hqlx6qb62y71t7q2cs7r0000gn/T/ipykernel_22711/3709291330.py\u001b[0m in \u001b[0;36m<module>\u001b[0;34m\u001b[0m\n\u001b[0;32m----> 1\u001b[0;31m \u001b[0;32mfor\u001b[0m \u001b[0mi\u001b[0m\u001b[0;34m,\u001b[0m \u001b[0mj\u001b[0m \u001b[0;32min\u001b[0m \u001b[0mzip\u001b[0m\u001b[0;34m(\u001b[0m\u001b[0;36m0\u001b[0m\u001b[0;34m,\u001b[0m\u001b[0;36m2101\u001b[0m\u001b[0;34m-\u001b[0m\u001b[0;36m2015\u001b[0m\u001b[0;34m)\u001b[0m\u001b[0;34m:\u001b[0m\u001b[0;34m\u001b[0m\u001b[0;34m\u001b[0m\u001b[0m\n\u001b[0m\u001b[1;32m      2\u001b[0m     \u001b[0mcube_result\u001b[0m \u001b[0;34m=\u001b[0m \u001b[0mpolynya_location\u001b[0m\u001b[0;34m.\u001b[0m\u001b[0mdata\u001b[0m\u001b[0;34m[\u001b[0m\u001b[0mi\u001b[0m\u001b[0;34m,\u001b[0m\u001b[0;34m:\u001b[0m\u001b[0;34m]\u001b[0m \u001b[0;34m*\u001b[0m \u001b[0mfg_regional_cube\u001b[0m\u001b[0;34m[\u001b[0m\u001b[0mj\u001b[0m\u001b[0;34m,\u001b[0m\u001b[0;34m:\u001b[0m\u001b[0;34m]\u001b[0m\u001b[0;34m\u001b[0m\u001b[0;34m\u001b[0m\u001b[0m\n\u001b[1;32m      3\u001b[0m     \u001b[0mtotal_temporary_cube\u001b[0m \u001b[0;34m=\u001b[0m \u001b[0mcube_result\u001b[0m\u001b[0;34m.\u001b[0m\u001b[0mintersection\u001b[0m\u001b[0;34m(\u001b[0m\u001b[0mlongitude\u001b[0m \u001b[0;34m=\u001b[0m \u001b[0;34m(\u001b[0m\u001b[0mwest\u001b[0m\u001b[0;34m,\u001b[0m \u001b[0meast\u001b[0m\u001b[0;34m)\u001b[0m\u001b[0;34m)\u001b[0m\u001b[0;34m\u001b[0m\u001b[0;34m\u001b[0m\u001b[0m\n\u001b[1;32m      4\u001b[0m     \u001b[0mtotal_regional_cube\u001b[0m \u001b[0;34m=\u001b[0m \u001b[0mtotal_temporary_cube\u001b[0m\u001b[0;34m.\u001b[0m\u001b[0mintersection\u001b[0m\u001b[0;34m(\u001b[0m\u001b[0mlatitude\u001b[0m \u001b[0;34m=\u001b[0m \u001b[0;34m(\u001b[0m\u001b[0msouth\u001b[0m\u001b[0;34m,\u001b[0m \u001b[0mnorth\u001b[0m\u001b[0;34m)\u001b[0m\u001b[0;34m)\u001b[0m\u001b[0;34m\u001b[0m\u001b[0;34m\u001b[0m\u001b[0m\n\u001b[1;32m      5\u001b[0m     \u001b[0max1\u001b[0m \u001b[0;34m=\u001b[0m \u001b[0mplt\u001b[0m\u001b[0;34m.\u001b[0m\u001b[0msubplot\u001b[0m\u001b[0;34m(\u001b[0m\u001b[0;36m111\u001b[0m\u001b[0;34m,\u001b[0m\u001b[0mprojection\u001b[0m\u001b[0;34m=\u001b[0m\u001b[0mccrs\u001b[0m\u001b[0;34m.\u001b[0m\u001b[0mPlateCarree\u001b[0m\u001b[0;34m(\u001b[0m\u001b[0mcentral_longitude\u001b[0m\u001b[0;34m=\u001b[0m\u001b[0mnp\u001b[0m\u001b[0;34m.\u001b[0m\u001b[0mround\u001b[0m\u001b[0;34m(\u001b[0m\u001b[0mwest\u001b[0m \u001b[0;34m+\u001b[0m \u001b[0;34m(\u001b[0m\u001b[0meast\u001b[0m \u001b[0;34m-\u001b[0m \u001b[0mwest\u001b[0m\u001b[0;34m)\u001b[0m\u001b[0;34m/\u001b[0m\u001b[0;36m2.0\u001b[0m\u001b[0;34m)\u001b[0m\u001b[0;34m)\u001b[0m\u001b[0;34m)\u001b[0m\u001b[0;34m\u001b[0m\u001b[0;34m\u001b[0m\u001b[0m\n",
      "\u001b[0;31mTypeError\u001b[0m: 'int' object is not iterable"
     ]
    }
   ],
   "source": [
    "for i, j in zip(0,2101-2015):\n",
    "    cube_result = polynya_location.data[i,:] * fg_regional_cube[j,:]\n",
    "    total_temporary_cube = cube_result.intersection(longitude = (west, east)) \n",
    "    total_regional_cube = total_temporary_cube.intersection(latitude = (south, north))\n",
    "    ax1 = plt.subplot(111,projection=ccrs.PlateCarree(central_longitude=np.round(west + (east - west)/2.0)))\n",
    "    qplt.pcolormesh(cube_result)\n",
    "\n"
   ]
  },
  {
   "cell_type": "code",
   "execution_count": 13,
   "id": "0f03218a-5f19-43b9-8e77-fd91753306fa",
   "metadata": {},
   "outputs": [
    {
     "ename": "ValueError",
     "evalue": "Cube must be 2-dimensional. Got 1 dimensions.",
     "output_type": "error",
     "traceback": [
      "\u001b[0;31m---------------------------------------------------------------------------\u001b[0m",
      "\u001b[0;31mValueError\u001b[0m                                Traceback (most recent call last)",
      "\u001b[0;32m/var/folders/k_/kjd3hqlx6qb62y71t7q2cs7r0000gn/T/ipykernel_42203/982222503.py\u001b[0m in \u001b[0;36m<module>\u001b[0;34m\u001b[0m\n\u001b[1;32m      6\u001b[0m \u001b[0;34m\u001b[0m\u001b[0m\n\u001b[1;32m      7\u001b[0m \u001b[0;32mfor\u001b[0m \u001b[0mi\u001b[0m \u001b[0;32min\u001b[0m \u001b[0mrange\u001b[0m\u001b[0;34m(\u001b[0m\u001b[0;36m0\u001b[0m\u001b[0;34m,\u001b[0m\u001b[0;36m2101\u001b[0m\u001b[0;34m-\u001b[0m\u001b[0;36m2015\u001b[0m\u001b[0;34m)\u001b[0m\u001b[0;34m:\u001b[0m\u001b[0;34m\u001b[0m\u001b[0;34m\u001b[0m\u001b[0m\n\u001b[0;32m----> 8\u001b[0;31m     \u001b[0mqplt\u001b[0m\u001b[0;34m.\u001b[0m\u001b[0mpcolormesh\u001b[0m\u001b[0;34m(\u001b[0m\u001b[0mcube_result\u001b[0m\u001b[0;34m[\u001b[0m\u001b[0mi\u001b[0m\u001b[0;34m]\u001b[0m\u001b[0;34m)\u001b[0m\u001b[0;34m\u001b[0m\u001b[0;34m\u001b[0m\u001b[0m\n\u001b[0m\u001b[1;32m      9\u001b[0m \u001b[0;34m\u001b[0m\u001b[0m\n",
      "\u001b[0;32m~/opt/miniconda3/lib/python3.9/site-packages/iris/quickplot.py\u001b[0m in \u001b[0;36mpcolormesh\u001b[0;34m(cube, *args, **kwargs)\u001b[0m\n\u001b[1;32m    263\u001b[0m     \u001b[0mcoords\u001b[0m \u001b[0;34m=\u001b[0m \u001b[0mkwargs\u001b[0m\u001b[0;34m.\u001b[0m\u001b[0mget\u001b[0m\u001b[0;34m(\u001b[0m\u001b[0;34m\"coords\"\u001b[0m\u001b[0;34m)\u001b[0m\u001b[0;34m\u001b[0m\u001b[0;34m\u001b[0m\u001b[0m\n\u001b[1;32m    264\u001b[0m     \u001b[0maxes\u001b[0m \u001b[0;34m=\u001b[0m \u001b[0mkwargs\u001b[0m\u001b[0;34m.\u001b[0m\u001b[0mget\u001b[0m\u001b[0;34m(\u001b[0m\u001b[0;34m\"axes\"\u001b[0m\u001b[0;34m)\u001b[0m\u001b[0;34m\u001b[0m\u001b[0;34m\u001b[0m\u001b[0m\n\u001b[0;32m--> 265\u001b[0;31m     \u001b[0mresult\u001b[0m \u001b[0;34m=\u001b[0m \u001b[0miplt\u001b[0m\u001b[0;34m.\u001b[0m\u001b[0mpcolormesh\u001b[0m\u001b[0;34m(\u001b[0m\u001b[0mcube\u001b[0m\u001b[0;34m,\u001b[0m \u001b[0;34m*\u001b[0m\u001b[0margs\u001b[0m\u001b[0;34m,\u001b[0m \u001b[0;34m**\u001b[0m\u001b[0mkwargs\u001b[0m\u001b[0;34m)\u001b[0m\u001b[0;34m\u001b[0m\u001b[0;34m\u001b[0m\u001b[0m\n\u001b[0m\u001b[1;32m    266\u001b[0m     \u001b[0m_label_with_bounds\u001b[0m\u001b[0;34m(\u001b[0m\u001b[0mcube\u001b[0m\u001b[0;34m,\u001b[0m \u001b[0mresult\u001b[0m\u001b[0;34m,\u001b[0m \u001b[0mcoords\u001b[0m\u001b[0;34m=\u001b[0m\u001b[0mcoords\u001b[0m\u001b[0;34m,\u001b[0m \u001b[0maxes\u001b[0m\u001b[0;34m=\u001b[0m\u001b[0maxes\u001b[0m\u001b[0;34m)\u001b[0m\u001b[0;34m\u001b[0m\u001b[0;34m\u001b[0m\u001b[0m\n\u001b[1;32m    267\u001b[0m     \u001b[0;32mreturn\u001b[0m \u001b[0mresult\u001b[0m\u001b[0;34m\u001b[0m\u001b[0;34m\u001b[0m\u001b[0m\n",
      "\u001b[0;32m~/opt/miniconda3/lib/python3.9/site-packages/iris/plot.py\u001b[0m in \u001b[0;36mpcolormesh\u001b[0;34m(cube, *args, **kwargs)\u001b[0m\n\u001b[1;32m   1345\u001b[0m \u001b[0;34m\u001b[0m\u001b[0m\n\u001b[1;32m   1346\u001b[0m     \"\"\"\n\u001b[0;32m-> 1347\u001b[0;31m     \u001b[0mresult\u001b[0m \u001b[0;34m=\u001b[0m \u001b[0m_draw_2d_from_bounds\u001b[0m\u001b[0;34m(\u001b[0m\u001b[0;34m\"pcolormesh\"\u001b[0m\u001b[0;34m,\u001b[0m \u001b[0mcube\u001b[0m\u001b[0;34m,\u001b[0m \u001b[0;34m*\u001b[0m\u001b[0margs\u001b[0m\u001b[0;34m,\u001b[0m \u001b[0;34m**\u001b[0m\u001b[0mkwargs\u001b[0m\u001b[0;34m)\u001b[0m\u001b[0;34m\u001b[0m\u001b[0;34m\u001b[0m\u001b[0m\n\u001b[0m\u001b[1;32m   1348\u001b[0m     \u001b[0;32mreturn\u001b[0m \u001b[0mresult\u001b[0m\u001b[0;34m\u001b[0m\u001b[0;34m\u001b[0m\u001b[0m\n\u001b[1;32m   1349\u001b[0m \u001b[0;34m\u001b[0m\u001b[0m\n",
      "\u001b[0;32m~/opt/miniconda3/lib/python3.9/site-packages/iris/plot.py\u001b[0m in \u001b[0;36m_draw_2d_from_bounds\u001b[0;34m(draw_method_name, cube, *args, **kwargs)\u001b[0m\n\u001b[1;32m    397\u001b[0m         )\n\u001b[1;32m    398\u001b[0m     \u001b[0;32melse\u001b[0m\u001b[0;34m:\u001b[0m\u001b[0;34m\u001b[0m\u001b[0;34m\u001b[0m\u001b[0m\n\u001b[0;32m--> 399\u001b[0;31m         \u001b[0mplot_defn\u001b[0m \u001b[0;34m=\u001b[0m \u001b[0m_get_plot_defn\u001b[0m\u001b[0;34m(\u001b[0m\u001b[0mcube\u001b[0m\u001b[0;34m,\u001b[0m \u001b[0mmode\u001b[0m\u001b[0;34m,\u001b[0m \u001b[0mndims\u001b[0m\u001b[0;34m=\u001b[0m\u001b[0;36m2\u001b[0m\u001b[0;34m)\u001b[0m\u001b[0;34m\u001b[0m\u001b[0;34m\u001b[0m\u001b[0m\n\u001b[0m\u001b[1;32m    400\u001b[0m \u001b[0;34m\u001b[0m\u001b[0m\n\u001b[1;32m    401\u001b[0m     \u001b[0mcontig_tol\u001b[0m \u001b[0;34m=\u001b[0m \u001b[0mkwargs\u001b[0m\u001b[0;34m.\u001b[0m\u001b[0mpop\u001b[0m\u001b[0;34m(\u001b[0m\u001b[0;34m\"contiguity_tolerance\"\u001b[0m\u001b[0;34m,\u001b[0m \u001b[0;32mNone\u001b[0m\u001b[0;34m)\u001b[0m\u001b[0;34m\u001b[0m\u001b[0;34m\u001b[0m\u001b[0m\n",
      "\u001b[0;32m~/opt/miniconda3/lib/python3.9/site-packages/iris/plot.py\u001b[0m in \u001b[0;36m_get_plot_defn\u001b[0;34m(cube, mode, ndims)\u001b[0m\n\u001b[1;32m    141\u001b[0m     \u001b[0;32mif\u001b[0m \u001b[0mcube\u001b[0m\u001b[0;34m.\u001b[0m\u001b[0mndim\u001b[0m \u001b[0;34m!=\u001b[0m \u001b[0mndims\u001b[0m\u001b[0;34m:\u001b[0m\u001b[0;34m\u001b[0m\u001b[0;34m\u001b[0m\u001b[0m\n\u001b[1;32m    142\u001b[0m         \u001b[0mmsg\u001b[0m \u001b[0;34m=\u001b[0m \u001b[0;34m\"Cube must be %s-dimensional. Got %s dimensions.\"\u001b[0m\u001b[0;34m\u001b[0m\u001b[0;34m\u001b[0m\u001b[0m\n\u001b[0;32m--> 143\u001b[0;31m         \u001b[0;32mraise\u001b[0m \u001b[0mValueError\u001b[0m\u001b[0;34m(\u001b[0m\u001b[0mmsg\u001b[0m \u001b[0;34m%\u001b[0m \u001b[0;34m(\u001b[0m\u001b[0mndims\u001b[0m\u001b[0;34m,\u001b[0m \u001b[0mcube\u001b[0m\u001b[0;34m.\u001b[0m\u001b[0mndim\u001b[0m\u001b[0;34m)\u001b[0m\u001b[0;34m)\u001b[0m\u001b[0;34m\u001b[0m\u001b[0;34m\u001b[0m\u001b[0m\n\u001b[0m\u001b[1;32m    144\u001b[0m \u001b[0;34m\u001b[0m\u001b[0m\n\u001b[1;32m    145\u001b[0m     \u001b[0;31m# Start by taking the DimCoords from each dimension.\u001b[0m\u001b[0;34m\u001b[0m\u001b[0;34m\u001b[0m\u001b[0;34m\u001b[0m\u001b[0m\n",
      "\u001b[0;31mValueError\u001b[0m: Cube must be 2-dimensional. Got 1 dimensions."
     ]
    },
    {
     "data": {
      "image/png": "[encoded data removed]",
      "text/plain": [
       "<Figure size 432x288 with 2 Axes>"
      ]
     },
     "metadata": {
      "needs_background": "light"
     },
     "output_type": "display_data"
    }
   ],
   "source": [
    "cube_result = polynya_location.data * fg_regional_cube\n",
    "total_temporary_cube = cube_result.intersection(longitude = (west, east)) \n",
    "total_regional_cube = total_temporary_cube.intersection(latitude = (south, north))\n",
    "ax1 = plt.subplot(111,projection=ccrs.PlateCarree(central_longitude=np.round(west + (east - west)/2.0)))\n",
    "qplt.pcolormesh(cube_result)\n",
    "\n",
    "for i in range(0,2101-2015):\n",
    "    qplt.pcolormesh(cube_result[i])\n",
    "\n"
   ]
  },
  {
   "cell_type": "code",
   "execution_count": null,
   "id": "83992286-7779-4f06-ba76-1097124cfacb",
   "metadata": {},
   "outputs": [],
   "source": []
  }
 ],
 "metadata": {
  "kernelspec": {
   "display_name": "Python 3 (ipykernel)",
   "language": "python",
   "name": "python3"
  },
  "language_info": {
   "codemirror_mode": {
    "name": "ipython",
    "version": 3
   },
   "file_extension": ".py",
   "mimetype": "text/x-python",
   "name": "python",
   "nbconvert_exporter": "python",
   "pygments_lexer": "ipython3",
   "version": "3.9.5"
  }
 },
 "nbformat": 4,
 "nbformat_minor": 5
}
