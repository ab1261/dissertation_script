{
 "cells": [
  {
   "cell_type": "code",
   "execution_count": 1,
   "id": "73a57202-603d-4929-8614-24393172bb32",
   "metadata": {},
   "outputs": [],
   "source": [
    "import cartopy.crs as ccrs\n",
    "import matplotlib.pyplot as plt\n",
    "import iris.analysis.cartography\n",
    "import iris.plot as iplt\n",
    "import iris.quickplot as qplt\n",
    "import numpy as np\n",
    "import matplotlib.ticker as mticker\n",
    "from numpy import *\n",
    "from matplotlib.pyplot import *\n",
    "from iris.analysis import *\n",
    "from iris.coord_categorisation import *\n",
    "from iris.analysis.cartography import *\n",
    "from scipy.stats import *\n",
    "from scipy.stats.mstats import *\n",
    "from iris import *"
   ]
  },
  {
   "cell_type": "code",
   "execution_count": 3,
   "id": "da988874-c9d7-4e65-b86c-7a1930716d01",
   "metadata": {},
   "outputs": [
    {
     "name": "stdout",
     "output_type": "stream",
     "text": [
      "0: longitude / (degrees)               (latitude: 180; longitude: 360)\n",
      "1: latitude / (degrees)                (latitude: 180; longitude: 360)\n",
      "2: sea_ice_area_fraction / (%)         (time: 1032; latitude: 180; longitude: 360)\n"
     ]
    },
    {
     "name": "stderr",
     "output_type": "stream",
     "text": [
      "/Users/alicebrindley/opt/miniconda3/lib/python3.9/site-packages/iris/fileformats/cf.py:859: UserWarning: Missing CF-netCDF measure variable 'areacello', referenced by netCDF variable 'siconc'\n",
      "  warnings.warn(\n"
     ]
    }
   ],
   "source": [
    "fname = '/Users/alicebrindley/OneDrive - University of Exeter/siconc_SImon_GFDL-CM4_ssp585_r1i1p1f1_gr_201501-210012.nc'\n",
    "cube = iris.load(fname)\n",
    "print(cube)"
   ]
  },
  {
   "cell_type": "code",
   "execution_count": 4,
   "id": "cb1e4516-6049-4500-8958-3591b5aa8391",
   "metadata": {},
   "outputs": [
    {
     "name": "stdout",
     "output_type": "stream",
     "text": [
      "sea_ice_area_fraction / (%)         (time: 1032; latitude: 180; longitude: 360)\n",
      "    Dimension coordinates:\n",
      "        time                             x               -               -\n",
      "        latitude                         -               x               -\n",
      "        longitude                        -               -               x\n",
      "    Cell methods:\n",
      "        mean where sea              area\n",
      "        mean                        time\n",
      "    Attributes:\n",
      "        Conventions                 CF-1.7 CMIP-6.0 UGRID-1.0\n",
      "        activity_id                 ScenarioMIP\n",
      "        branch_method               standard\n",
      "        branch_time_in_child        0.0\n",
      "        branch_time_in_parent       60225.0\n",
      "        comment                     Model data on the 1x1 grid includes values in all cells for which any ocean...\n",
      "        contact                     gfdl.climate.model.info@noaa.gov\n",
      "        creation_date               2019-03-18T13:44:33Z\n",
      "        data_specs_version          01.00.27\n",
      "        experiment                  update of RCP8.5 based on SSP5\n",
      "        experiment_id               ssp585\n",
      "        external_variables          areacello\n",
      "        forcing_index               1\n",
      "        frequency                   mon\n",
      "        further_info_url            https://furtherinfo.es-doc.org/CMIP6.NOAA-GFDL.GFDL-CM4.ssp585.none.r1...\n",
      "        grid                        seaIce data regridded from tripolar - nominal 0.25 deg latitude/longitude...\n",
      "        grid_label                  gr\n",
      "        history                     File was processed by fremetar (GFDL analog of CMOR). TripleID: [exper...\n",
      "        initialization_index        1\n",
      "        institution                 National Oceanic and Atmospheric Administration, Geophysical Fluid Dynamics...\n",
      "        institution_id              NOAA-GFDL\n",
      "        interp_method               conserve_order1\n",
      "        license                     CMIP6 model data produced by NOAA-GFDL is licensed under a Creative Commons...\n",
      "        mip_era                     CMIP6\n",
      "        nominal_resolution          1x1 degree\n",
      "        original_name               siconc\n",
      "        parent_activity_id          CMIP\n",
      "        parent_experiment_id        historical\n",
      "        parent_mip_era              CMIP6\n",
      "        parent_source_id            GFDL-CM4\n",
      "        parent_time_units           days since 1850-1-1\n",
      "        parent_variant_label        r1i1p1f1\n",
      "        physics_index               1\n",
      "        product                     model-output\n",
      "        realization_index           1\n",
      "        realm                       seaIce\n",
      "        references                  see further_info_url attribute\n",
      "        source                      'GFDL-CM4 (2018): \\naerosol: interactive\\natmos: GFDL-AM4.0.1 (Cubed-sphere...\n",
      "        source_id                   GFDL-CM4\n",
      "        source_type                 AOGCM\n",
      "        sub_experiment              none\n",
      "        sub_experiment_id           none\n",
      "        table_id                    SImon\n",
      "        title                       NOAA GFDL GFDL-CM4 model output prepared for CMIP6 update of RCP8.5 based...\n",
      "        tracking_id                 hdl:21.14100/6e5f0ab4-6e13-4f4f-93df-586b9b387b09\n",
      "        variable_id                 siconc\n",
      "        variant_info                N/A\n",
      "        variant_label               r1i1p1f1\n"
     ]
    }
   ],
   "source": [
    "siconc=cube[2]\n",
    "print(siconc)"
   ]
  },
  {
   "cell_type": "code",
   "execution_count": 5,
   "id": "fa0e7c4a-13c5-44d1-9f4d-4547c4eb1928",
   "metadata": {},
   "outputs": [
    {
     "name": "stdout",
     "output_type": "stream",
     "text": [
      "sea_ice_area_fraction / (%)         (latitude: 180; longitude: 360)\n",
      "    Dimension coordinates:\n",
      "        latitude                             x               -\n",
      "        longitude                            -               x\n",
      "    Scalar coordinates:\n",
      "        time                        2015-01-16 12:00:00, bound=(2015-01-01 00:00:00, 2015-02-01 00:00:00)\n",
      "    Cell methods:\n",
      "        mean where sea              area\n",
      "        mean                        time\n",
      "    Attributes:\n",
      "        Conventions                 CF-1.7 CMIP-6.0 UGRID-1.0\n",
      "        activity_id                 ScenarioMIP\n",
      "        branch_method               standard\n",
      "        branch_time_in_child        0.0\n",
      "        branch_time_in_parent       60225.0\n",
      "        comment                     Model data on the 1x1 grid includes values in all cells for which any ocean...\n",
      "        contact                     gfdl.climate.model.info@noaa.gov\n",
      "        creation_date               2019-03-18T13:44:33Z\n",
      "        data_specs_version          01.00.27\n",
      "        experiment                  update of RCP8.5 based on SSP5\n",
      "        experiment_id               ssp585\n",
      "        external_variables          areacello\n",
      "        forcing_index               1\n",
      "        frequency                   mon\n",
      "        further_info_url            https://furtherinfo.es-doc.org/CMIP6.NOAA-GFDL.GFDL-CM4.ssp585.none.r1...\n",
      "        grid                        seaIce data regridded from tripolar - nominal 0.25 deg latitude/longitude...\n",
      "        grid_label                  gr\n",
      "        history                     File was processed by fremetar (GFDL analog of CMOR). TripleID: [exper...\n",
      "        initialization_index        1\n",
      "        institution                 National Oceanic and Atmospheric Administration, Geophysical Fluid Dynamics...\n",
      "        institution_id              NOAA-GFDL\n",
      "        interp_method               conserve_order1\n",
      "        license                     CMIP6 model data produced by NOAA-GFDL is licensed under a Creative Commons...\n",
      "        mip_era                     CMIP6\n",
      "        nominal_resolution          1x1 degree\n",
      "        original_name               siconc\n",
      "        parent_activity_id          CMIP\n",
      "        parent_experiment_id        historical\n",
      "        parent_mip_era              CMIP6\n",
      "        parent_source_id            GFDL-CM4\n",
      "        parent_time_units           days since 1850-1-1\n",
      "        parent_variant_label        r1i1p1f1\n",
      "        physics_index               1\n",
      "        product                     model-output\n",
      "        realization_index           1\n",
      "        realm                       seaIce\n",
      "        references                  see further_info_url attribute\n",
      "        source                      'GFDL-CM4 (2018): \\naerosol: interactive\\natmos: GFDL-AM4.0.1 (Cubed-sphere...\n",
      "        source_id                   GFDL-CM4\n",
      "        source_type                 AOGCM\n",
      "        sub_experiment              none\n",
      "        sub_experiment_id           none\n",
      "        table_id                    SImon\n",
      "        title                       NOAA GFDL GFDL-CM4 model output prepared for CMIP6 update of RCP8.5 based...\n",
      "        tracking_id                 hdl:21.14100/6e5f0ab4-6e13-4f4f-93df-586b9b387b09\n",
      "        variable_id                 siconc\n",
      "        variant_info                N/A\n",
      "        variant_label               r1i1p1f1\n"
     ]
    }
   ],
   "source": [
    "# three coords time, lat, lon\n",
    "lat_long_data_from_1st_time_step = siconc[0,:,:]\n",
    "lat_long_data_from_2nd_time_step = siconc[2,:,:]\n",
    "time_long_data_from_1st_latitude_step = siconc[:,0,:]\n",
    "time_lat_data_from_1st_litudeong_step = siconc[:,:,0]\n",
    "siconc_at_time_zero = siconc[0,:,:]\n",
    "print(siconc_at_time_zero)"
   ]
  },
  {
   "cell_type": "code",
   "execution_count": 6,
   "id": "67a69a06-bae2-45cc-bbfa-5bc65e230606",
   "metadata": {},
   "outputs": [
    {
     "data": {
      "text/html": [
       "\n",
       "<style>\n",
       "  a.iris {\n",
       "      text-decoration: none !important;\n",
       "  }\n",
       "  table.iris {\n",
       "      white-space: pre;\n",
       "      border: 1px solid;\n",
       "      border-color: #9c9c9c;\n",
       "      font-family: monaco, monospace;\n",
       "  }\n",
       "  th.iris {\n",
       "      background: #303f3f;\n",
       "      color: #e0e0e0;\n",
       "      border-left: 1px solid;\n",
       "      border-color: #9c9c9c;\n",
       "      font-size: 1.05em;\n",
       "      min-width: 50px;\n",
       "      max-width: 125px;\n",
       "  }\n",
       "  tr.iris :first-child {\n",
       "      border-right: 1px solid #9c9c9c !important;\n",
       "  }\n",
       "  td.iris-title {\n",
       "      background: #d5dcdf;\n",
       "      border-top: 1px solid #9c9c9c;\n",
       "      font-weight: bold;\n",
       "  }\n",
       "  .iris-word-cell {\n",
       "      text-align: left !important;\n",
       "      white-space: pre;\n",
       "  }\n",
       "  .iris-subheading-cell {\n",
       "      padding-left: 2em !important;\n",
       "  }\n",
       "  .iris-inclusion-cell {\n",
       "      padding-right: 1em !important;\n",
       "  }\n",
       "  .iris-panel-body {\n",
       "      padding-top: 0px;\n",
       "  }\n",
       "  .iris-panel-title {\n",
       "      padding-left: 3em;\n",
       "  }\n",
       "  .iris-panel-title {\n",
       "      margin-top: 7px;\n",
       "  }\n",
       "</style>\n",
       "<table class=\"iris\" id=\"140317187183424\">\n",
       "    <tr class=\"iris\">\n",
       "<th class=\"iris iris-word-cell\">Sea Ice Area Fraction (%)</th>\n",
       "<th class=\"iris iris-word-cell\">time</th>\n",
       "<th class=\"iris iris-word-cell\">latitude</th>\n",
       "<th class=\"iris iris-word-cell\">longitude</th>\n",
       "</tr>\n",
       "    <tr class=\"iris\">\n",
       "<td class=\"iris-word-cell iris-subheading-cell\">Shape</td>\n",
       "<td class=\"iris iris-inclusion-cell\">86</td>\n",
       "<td class=\"iris iris-inclusion-cell\">180</td>\n",
       "<td class=\"iris iris-inclusion-cell\">360</td>\n",
       "</tr>\n",
       "    <tr class=\"iris\">\n",
       "    <td class=\"iris-title iris-word-cell\">Dimension coordinates</td>\n",
       "    <td class=\"iris-title\"></td>\n",
       "    <td class=\"iris-title\"></td>\n",
       "    <td class=\"iris-title\"></td>\n",
       "</tr>\n",
       "<tr class=\"iris\">\n",
       "    <td class=\"iris-word-cell iris-subheading-cell\">\ttime</td>\n",
       "    <td class=\"iris-inclusion-cell\">x</td>\n",
       "    <td class=\"iris-inclusion-cell\">-</td>\n",
       "    <td class=\"iris-inclusion-cell\">-</td>\n",
       "</tr>\n",
       "<tr class=\"iris\">\n",
       "    <td class=\"iris-word-cell iris-subheading-cell\">\tlatitude</td>\n",
       "    <td class=\"iris-inclusion-cell\">-</td>\n",
       "    <td class=\"iris-inclusion-cell\">x</td>\n",
       "    <td class=\"iris-inclusion-cell\">-</td>\n",
       "</tr>\n",
       "<tr class=\"iris\">\n",
       "    <td class=\"iris-word-cell iris-subheading-cell\">\tlongitude</td>\n",
       "    <td class=\"iris-inclusion-cell\">-</td>\n",
       "    <td class=\"iris-inclusion-cell\">-</td>\n",
       "    <td class=\"iris-inclusion-cell\">x</td>\n",
       "</tr>\n",
       "<tr class=\"iris\">\n",
       "    <td class=\"iris-title iris-word-cell\">Auxiliary coordinates</td>\n",
       "    <td class=\"iris-title\"></td>\n",
       "    <td class=\"iris-title\"></td>\n",
       "    <td class=\"iris-title\"></td>\n",
       "</tr>\n",
       "<tr class=\"iris\">\n",
       "    <td class=\"iris-word-cell iris-subheading-cell\">\tmonth_number</td>\n",
       "    <td class=\"iris-inclusion-cell\">x</td>\n",
       "    <td class=\"iris-inclusion-cell\">-</td>\n",
       "    <td class=\"iris-inclusion-cell\">-</td>\n",
       "</tr>\n",
       "<tr class=\"iris\">\n",
       "    <td class=\"iris-word-cell iris-subheading-cell\">\tseason_year</td>\n",
       "    <td class=\"iris-inclusion-cell\">x</td>\n",
       "    <td class=\"iris-inclusion-cell\">-</td>\n",
       "    <td class=\"iris-inclusion-cell\">-</td>\n",
       "</tr>\n",
       "<tr class=\"iris\">\n",
       "    <td class=\"iris-title iris-word-cell\">Cell methods</td>\n",
       "    <td class=\"iris-title\"></td>\n",
       "    <td class=\"iris-title\"></td>\n",
       "    <td class=\"iris-title\"></td>\n",
       "</tr>\n",
       "<tr class=\"iris\">\n",
       "    <td class=\"iris-word-cell iris-subheading-cell\">\tmean where sea              area</td>\n",
       "    <td class=\"iris-word-cell\" colspan=\"3\"></td>\n",
       "</tr>\n",
       "<tr class=\"iris\">\n",
       "    <td class=\"iris-word-cell iris-subheading-cell\">\tmean                        time</td>\n",
       "    <td class=\"iris-word-cell\" colspan=\"3\"></td>\n",
       "</tr>\n",
       "<tr class=\"iris\">\n",
       "    <td class=\"iris-word-cell iris-subheading-cell\">\tmean                        season_year</td>\n",
       "    <td class=\"iris-word-cell\" colspan=\"3\"></td>\n",
       "</tr>\n",
       "<tr class=\"iris\">\n",
       "    <td class=\"iris-title iris-word-cell\">Attributes</td>\n",
       "    <td class=\"iris-title\"></td>\n",
       "    <td class=\"iris-title\"></td>\n",
       "    <td class=\"iris-title\"><br>Conventions                 CF-1.7 CMIP-6.0 UGRID-1.0<br>activity_id                 ScenarioMIP<br>branch_method               standard<br>branch_time_in_child        0.0<br>branch_time_in_parent       60225.0<br>comment                     Model data on the 1x1 grid includes values in all cells for which any ocean...<br>contact                     gfdl.climate.model.info@noaa.gov</td>\n",
       "</tr>\n",
       "<tr class=\"iris\">\n",
       "    <td class=\"iris-word-cell iris-subheading-cell\">\tcreation_date               2019-03-18T13</td>\n",
       "    <td class=\"iris-word-cell\" colspan=\"3\">4:33Z<br>data_specs_version          01.00.27<br>experiment                  update of RCP8.5 based on SSP5<br>experiment_id               ssp585<br>external_variables          areacello<br>forcing_index               1<br>frequency                   mon</td>\n",
       "</tr>\n",
       "<tr class=\"iris\">\n",
       "    <td class=\"iris-word-cell iris-subheading-cell\">\tfurther_info_url            https</td>\n",
       "    <td class=\"iris-word-cell\" colspan=\"3\">/furtherinfo.es-doc.org/CMIP6.NOAA-GFDL.GFDL-CM4.ssp585.none.r1...<br>grid                        seaIce data regridded from tripolar - nominal 0.25 deg latitude/longitude...<br>grid_label                  gr</td>\n",
       "</tr>\n",
       "<tr class=\"iris\">\n",
       "    <td class=\"iris-word-cell iris-subheading-cell\">\thistory                     File was processed by fremetar (GFDL analog of CMOR). TripleID</td>\n",
       "    <td class=\"iris-word-cell\" colspan=\"3\">[exper...<br>initialization_index        1<br>institution                 National Oceanic and Atmospheric Administration, Geophysical Fluid Dynamics...<br>institution_id              NOAA-GFDL<br>interp_method               conserve_order1<br>license                     CMIP6 model data produced by NOAA-GFDL is licensed under a Creative Commons...<br>mip_era                     CMIP6<br>nominal_resolution          1x1 degree<br>original_name               siconc<br>parent_activity_id          CMIP<br>parent_experiment_id        historical<br>parent_mip_era              CMIP6<br>parent_source_id            GFDL-CM4<br>parent_time_units           days since 1850-1-1<br>parent_variant_label        r1i1p1f1<br>physics_index               1<br>product                     model-output<br>realization_index           1<br>realm                       seaIce<br>references                  see further_info_url attribute</td>\n",
       "</tr>\n",
       "<tr class=\"iris\">\n",
       "    <td class=\"iris-word-cell iris-subheading-cell\">\tsource                      &#x27;GFDL-CM4 (2018)</td>\n",
       "    <td class=\"iris-word-cell\" colspan=\"3\">\\naerosol: interactive\\natmos: GFDL-AM4.0.1 (Cubed-sphere...<br>source_id                   GFDL-CM4<br>source_type                 AOGCM<br>sub_experiment              none<br>sub_experiment_id           none<br>table_id                    SImon<br>title                       NOAA GFDL GFDL-CM4 model output prepared for CMIP6 update of RCP8.5 based...</td>\n",
       "</tr>\n",
       "<tr class=\"iris\">\n",
       "    <td class=\"iris-word-cell iris-subheading-cell\">\ttracking_id                 hdl</td>\n",
       "    <td class=\"iris-word-cell\" colspan=\"3\">1.14100/6e5f0ab4-6e13-4f4f-93df-586b9b387b09<br>variable_id                 siconc<br>variant_info                N/A<br>variant_label               r1i1p1f1</td>\n",
       "</tr>\n",
       "</table>\n",
       "        "
      ],
      "text/plain": [
       "<iris 'Cube' of sea_ice_area_fraction / (%) (time: 86; latitude: 180; longitude: 360)>"
      ]
     },
     "execution_count": 6,
     "metadata": {},
     "output_type": "execute_result"
    }
   ],
   "source": [
    "#extract Jan and Dec to average the sea ice concentration across these months\n",
    "\n",
    "add_month_number(siconc, 'time', name='month_number')\n",
    "cube2 = siconc[np.where((siconc.coord('month_number').points == 12))]\n",
    "\n",
    "#then to average this by each year, so that you have the December-Jan for each year add the 'season year', i.e. a number of each 'season'\n",
    "add_season_year(cube2, 'time', name='season_year')\n",
    "\n",
    "#then average by the season year:\n",
    "cube2.aggregated_by(['season_year'], iris.analysis.MEAN)"
   ]
  },
  {
   "cell_type": "code",
   "execution_count": 7,
   "id": "d9fdee11-e7ec-44ac-a0b4-1660e840ec2e",
   "metadata": {},
   "outputs": [
    {
     "data": {
      "image/png": "[encoded data removed]",
      "text/plain": [
       "<Figure size 432x288 with 1 Axes>"
      ]
     },
     "metadata": {
      "needs_background": "light"
     },
     "output_type": "display_data"
    }
   ],
   "source": [
    "#identify the Ross Sea\n",
    "\n",
    "cube3=cube2[0,:,:]\n",
    "\n",
    "west = -230 \n",
    "east = -110 \n",
    "south = -85 \n",
    "north = -60\n",
    "temporary_cube = cube3.intersection(longitude = (west, east)) \n",
    "regional_cube = temporary_cube.intersection(latitude = (south, north))\n",
    "ax1 = plt.subplot(111,projection=ccrs.PlateCarree(central_longitude=np.round(west + (east - west)/2.0))) \n",
    "my_plot = iplt.contourf(regional_cube)\n",
    "plt.gca().gridlines(draw_labels=True)\n",
    "\n",
    "\n",
    "plt.show()"
   ]
  },
  {
   "cell_type": "code",
   "execution_count": 8,
   "id": "16a2abb0-c29e-4ef8-be55-246dd6dececb",
   "metadata": {},
   "outputs": [
    {
     "name": "stdout",
     "output_type": "stream",
     "text": [
      "72.15791337568682\n"
     ]
    }
   ],
   "source": [
    "# most northerly row of cells and have a criteria like the average sea ice concentration in this \n",
    "# row is > 80% (might need some testing/iterating to find the right number).\n",
    "\n",
    "#extract the latitude I want to work with:\n",
    "\n",
    "north_edge = regional_cube.extract(iris.Constraint(latitude=-70))\n",
    "\n",
    "#average across this latitude \n",
    "nE_mean = north_edge.collapsed('longitude', iris.analysis.MEAN)\n",
    "print(nE_mean.data)"
   ]
  },
  {
   "cell_type": "code",
   "execution_count": 9,
   "id": "b1b693e0-d986-475e-bd1b-69942ddaf10b",
   "metadata": {},
   "outputs": [],
   "source": [
    "#define siconc for polynya\n",
    "polynya_threshold=regional_cube.data\n",
    "\n",
    "polynya = np.where((polynya_threshold.data <=30) & (nE_mean.data >=70))\n",
    "#print(polynya)"
   ]
  },
  {
   "cell_type": "code",
   "execution_count": 10,
   "id": "e16a8e96-046e-4bd1-b189-be93d369b807",
   "metadata": {},
   "outputs": [
    {
     "data": {
      "text/plain": [
       "<matplotlib.collections.QuadMesh at 0x7f9e24191550>"
      ]
     },
     "execution_count": 10,
     "metadata": {},
     "output_type": "execute_result"
    },
    {
     "data": {
      "image/png": "[encoded data removed]",
      "text/plain": [
       "<Figure size 432x288 with 1 Axes>"
      ]
     },
     "metadata": {
      "needs_background": "light"
     },
     "output_type": "display_data"
    }
   ],
   "source": [
    "polynya = polynya_threshold.data\n",
    "plt.pcolormesh(polynya_threshold.data,vmin=0,vmax=100)"
   ]
  },
  {
   "cell_type": "code",
   "execution_count": null,
   "id": "d7d1fec8-e636-4c82-9530-e0a5d638168c",
   "metadata": {},
   "outputs": [],
   "source": [
    "#create a loop for each year to run over each season year\n",
    "year_start=2015\n",
    "year_end=2100\n",
    "\n",
    "#repeat over all years.\n",
    "for season_cube in regional_year.slices([\"season_year\"]):\n",
    "    \n",
    "    if polynya_threshold <= 30 and north_edge_mean >= 70:\n",
    "        plt.subplot\n",
    "    else:\n",
    "        print('no polynya')"
   ]
  },
  {
   "cell_type": "code",
   "execution_count": 11,
   "id": "a754936b-94b4-4dfe-832f-d8e8952a4b62",
   "metadata": {},
   "outputs": [
    {
     "data": {
      "text/plain": [
       "<matplotlib.collections.QuadMesh at 0x7f9e241bb8e0>"
      ]
     },
     "execution_count": 11,
     "metadata": {},
     "output_type": "execute_result"
    },
    {
     "data": {
      "image/png": "[encoded data removed]",
      "text/plain": [
       "<Figure size 432x288 with 1 Axes>"
      ]
     },
     "metadata": {
      "needs_background": "light"
     },
     "output_type": "display_data"
    }
   ],
   "source": [
    "#define a variable to hold the threshold number you are interested in\n",
    "polynya_threshold_value = 30.0\n",
    "\n",
    "#Take a copy of the seaice data that we are going to use to make a binary 'mask' showing presence of absense of polynyas as 1s and 0s\n",
    "polynya_location = polynya_threshold.data.copy()\n",
    "\n",
    "#set that land data in this mask to nan (Not a number) so we don;t get confused (these will show up white in a typical plot)\n",
    "polynya_location[np.where(polynya_location >= 1.0e9)] = np.nan\n",
    "\n",
    "#make water that has more ice than our polynia condition equal to zero.\n",
    "polynya_location[np.where((polynya_location <= 100.0) & (polynya_location > polynya_threshold_value))] = 0.0\n",
    "\n",
    "#make water that has less ice than our polynia condition equal to zero to make where the polynya is\n",
    "polynya_location[np.where((polynya_location > 0.0) & (polynya_location <= polynya_threshold_value))] = 1.0\n",
    "\n",
    "#plot this data\n",
    "plt.pcolormesh(polynya_location,vmin=0,vmax=1)\n",
    "\n",
    "#Note in this 1st situation, we have not tested to make sure the northern edge has >30% seaice and it has not, so it is eroniously identify"
   ]
  },
  {
   "cell_type": "code",
   "execution_count": 12,
   "id": "e8944331-34e0-4014-927c-7aa801580579",
   "metadata": {},
   "outputs": [
    {
     "data": {
      "text/plain": [
       "array([[nan, nan, nan, ..., nan, nan, nan],\n",
       "       [nan, nan, nan, ..., nan, nan, nan],\n",
       "       [nan, nan, nan, ..., nan, nan, nan],\n",
       "       ...,\n",
       "       [ 1.,  1.,  1., ...,  1.,  1.,  1.],\n",
       "       [ 1.,  1.,  1., ...,  1.,  1.,  1.],\n",
       "       [ 1.,  1.,  1., ...,  0.,  0.,  0.]], dtype=float32)"
      ]
     },
     "execution_count": 12,
     "metadata": {},
     "output_type": "execute_result"
    }
   ],
   "source": [
    "polynya_location"
   ]
  },
  {
   "cell_type": "code",
   "execution_count": null,
   "id": "2c703f26-4b26-4393-a785-838a83a598cc",
   "metadata": {},
   "outputs": [],
   "source": [
    "#calculate the area of the ouput (polynya)\n",
    "#result being the output from previous cell which doesn't run\n",
    "\n",
    "result.coord('grid_latitude').guess_bounds()\n",
    "result.coord('grid_longitude').guess_bounds()\n",
    "grid_areas = iris.analysis.cartography.area_weights(cube)\n",
    "\n",
    "cube_vf = result.collapsed(['grid_longitude', 'grid_latitude'], iris.analysis.MEAN, weights=grid_areas)"
   ]
  },
  {
   "cell_type": "code",
   "execution_count": null,
   "id": "dd4a97e2-15da-4890-8252-bb54e3c8b662",
   "metadata": {},
   "outputs": [],
   "source": [
    "#if statement to define siconc of 30% surrounded by siconc of 70+%\n",
    "if polynya_threshold <= 30 and north_edge_mean >= 70:\n",
    "    qplt.pcoloresh\n",
    "    \n",
    "    polynya = np.where(polynya_threshold <=30)\n",
    "plt.show\n",
    "\n"
   ]
  },
  {
   "cell_type": "code",
   "execution_count": null,
   "id": "92bf0472-1909-423a-b961-c7f40a9e602c",
   "metadata": {},
   "outputs": [],
   "source": []
  }
 ],
 "metadata": {
  "kernelspec": {
   "display_name": "Python 3 (ipykernel)",
   "language": "python",
   "name": "python3"
  },
  "language_info": {
   "codemirror_mode": {
    "name": "ipython",
    "version": 3
   },
   "file_extension": ".py",
   "mimetype": "text/x-python",
   "name": "python",
   "nbconvert_exporter": "python",
   "pygments_lexer": "ipython3",
   "version": "3.9.5"
  }
 },
 "nbformat": 4,
 "nbformat_minor": 5
}
