{
 "cells": [
  {
   "cell_type": "code",
   "execution_count": 1,
   "id": "73a57202-603d-4929-8614-24393172bb32",
   "metadata": {},
   "outputs": [],
   "source": [
    "import cartopy.crs as ccrs\n",
    "import matplotlib.pyplot as plt\n",
    "import iris.analysis.cartography\n",
    "import iris.plot as iplt\n",
    "import iris.quickplot as qplt\n",
    "import numpy as np\n",
    "import matplotlib.ticker as mticker\n",
    "from numpy import *\n",
    "from matplotlib.pyplot import *\n",
    "from iris.analysis import *\n",
    "from iris.coord_categorisation import *\n",
    "from iris.analysis.cartography import *\n",
    "from scipy.stats import *\n",
    "from scipy.stats.mstats import *\n",
    "from iris import *"
   ]
  },
  {
   "cell_type": "code",
   "execution_count": 4,
   "id": "da988874-c9d7-4e65-b86c-7a1930716d01",
   "metadata": {},
   "outputs": [
    {
     "name": "stderr",
     "output_type": "stream",
     "text": [
      "/Users/alicebrindley/opt/miniconda3/lib/python3.9/site-packages/iris/fileformats/cf.py:859: UserWarning: Missing CF-netCDF measure variable 'areacello', referenced by netCDF variable 'siconc'\n",
      "  warnings.warn(\n"
     ]
    },
    {
     "name": "stdout",
     "output_type": "stream",
     "text": [
      "0: cell_area / (m2)                    (-- : 332; -- : 362)\n",
      "1: sea_ice_area_fraction / (%)         (time: 1032; -- : 332; -- : 362)\n"
     ]
    }
   ],
   "source": [
    "fname = '/Users/alicebrindley/Dropbox/YEAR_3/Dissertation/Models/dissertation_script/IPSL/siconc_SImon_IPSL-CM6A-LR_ssp370_r1i1p1f1_gn_201501-210012-2.nc'\n",
    "cube = iris.load(fname)\n",
    "print(cube)"
   ]
  },
  {
   "cell_type": "code",
   "execution_count": null,
   "id": "eeb27986-9063-4e6d-a559-500e2a68e7d3",
   "metadata": {},
   "outputs": [],
   "source": [
    "siconc = cube[1]\n"
   ]
  },
  {
   "cell_type": "code",
   "execution_count": 25,
   "id": "67a69a06-bae2-45cc-bbfa-5bc65e230606",
   "metadata": {},
   "outputs": [
    {
     "data": {
      "text/html": [
       "\n",
       "<style>\n",
       "  a.iris {\n",
       "      text-decoration: none !important;\n",
       "  }\n",
       "  table.iris {\n",
       "      white-space: pre;\n",
       "      border: 1px solid;\n",
       "      border-color: #9c9c9c;\n",
       "      font-family: monaco, monospace;\n",
       "  }\n",
       "  th.iris {\n",
       "      background: #303f3f;\n",
       "      color: #e0e0e0;\n",
       "      border-left: 1px solid;\n",
       "      border-color: #9c9c9c;\n",
       "      font-size: 1.05em;\n",
       "      min-width: 50px;\n",
       "      max-width: 125px;\n",
       "  }\n",
       "  tr.iris :first-child {\n",
       "      border-right: 1px solid #9c9c9c !important;\n",
       "  }\n",
       "  td.iris-title {\n",
       "      background: #d5dcdf;\n",
       "      border-top: 1px solid #9c9c9c;\n",
       "      font-weight: bold;\n",
       "  }\n",
       "  .iris-word-cell {\n",
       "      text-align: left !important;\n",
       "      white-space: pre;\n",
       "  }\n",
       "  .iris-subheading-cell {\n",
       "      padding-left: 2em !important;\n",
       "  }\n",
       "  .iris-inclusion-cell {\n",
       "      padding-right: 1em !important;\n",
       "  }\n",
       "  .iris-panel-body {\n",
       "      padding-top: 0px;\n",
       "  }\n",
       "  .iris-panel-title {\n",
       "      padding-left: 3em;\n",
       "  }\n",
       "  .iris-panel-title {\n",
       "      margin-top: 7px;\n",
       "  }\n",
       "</style>\n",
       "<table class=\"iris\" id=\"140338997291472\">\n",
       "    <tr class=\"iris\">\n",
       "<th class=\"iris iris-word-cell\">Sea Ice Area Fraction (%)</th>\n",
       "<th class=\"iris iris-word-cell\">time</th>\n",
       "<th class=\"iris iris-word-cell\">latitude</th>\n",
       "<th class=\"iris iris-word-cell\">longitude</th>\n",
       "</tr>\n",
       "    <tr class=\"iris\">\n",
       "<td class=\"iris-word-cell iris-subheading-cell\">Shape</td>\n",
       "<td class=\"iris iris-inclusion-cell\">100</td>\n",
       "<td class=\"iris iris-inclusion-cell\">180</td>\n",
       "<td class=\"iris iris-inclusion-cell\">360</td>\n",
       "</tr>\n",
       "    <tr class=\"iris\">\n",
       "    <td class=\"iris-title iris-word-cell\">Dimension coordinates</td>\n",
       "    <td class=\"iris-title\"></td>\n",
       "    <td class=\"iris-title\"></td>\n",
       "    <td class=\"iris-title\"></td>\n",
       "</tr>\n",
       "<tr class=\"iris\">\n",
       "    <td class=\"iris-word-cell iris-subheading-cell\">\ttime</td>\n",
       "    <td class=\"iris-inclusion-cell\">x</td>\n",
       "    <td class=\"iris-inclusion-cell\">-</td>\n",
       "    <td class=\"iris-inclusion-cell\">-</td>\n",
       "</tr>\n",
       "<tr class=\"iris\">\n",
       "    <td class=\"iris-word-cell iris-subheading-cell\">\tlatitude</td>\n",
       "    <td class=\"iris-inclusion-cell\">-</td>\n",
       "    <td class=\"iris-inclusion-cell\">x</td>\n",
       "    <td class=\"iris-inclusion-cell\">-</td>\n",
       "</tr>\n",
       "<tr class=\"iris\">\n",
       "    <td class=\"iris-word-cell iris-subheading-cell\">\tlongitude</td>\n",
       "    <td class=\"iris-inclusion-cell\">-</td>\n",
       "    <td class=\"iris-inclusion-cell\">-</td>\n",
       "    <td class=\"iris-inclusion-cell\">x</td>\n",
       "</tr>\n",
       "<tr class=\"iris\">\n",
       "    <td class=\"iris-title iris-word-cell\">Auxiliary coordinates</td>\n",
       "    <td class=\"iris-title\"></td>\n",
       "    <td class=\"iris-title\"></td>\n",
       "    <td class=\"iris-title\"></td>\n",
       "</tr>\n",
       "<tr class=\"iris\">\n",
       "    <td class=\"iris-word-cell iris-subheading-cell\">\tmonth_number</td>\n",
       "    <td class=\"iris-inclusion-cell\">x</td>\n",
       "    <td class=\"iris-inclusion-cell\">-</td>\n",
       "    <td class=\"iris-inclusion-cell\">-</td>\n",
       "</tr>\n",
       "<tr class=\"iris\">\n",
       "    <td class=\"iris-word-cell iris-subheading-cell\">\tseason_year</td>\n",
       "    <td class=\"iris-inclusion-cell\">x</td>\n",
       "    <td class=\"iris-inclusion-cell\">-</td>\n",
       "    <td class=\"iris-inclusion-cell\">-</td>\n",
       "</tr>\n",
       "<tr class=\"iris\">\n",
       "    <td class=\"iris-title iris-word-cell\">Cell methods</td>\n",
       "    <td class=\"iris-title\"></td>\n",
       "    <td class=\"iris-title\"></td>\n",
       "    <td class=\"iris-title\"></td>\n",
       "</tr>\n",
       "<tr class=\"iris\">\n",
       "    <td class=\"iris-word-cell iris-subheading-cell\">\tmean where sea              area</td>\n",
       "    <td class=\"iris-word-cell\" colspan=\"3\"></td>\n",
       "</tr>\n",
       "<tr class=\"iris\">\n",
       "    <td class=\"iris-word-cell iris-subheading-cell\">\tmean                        time</td>\n",
       "    <td class=\"iris-word-cell\" colspan=\"3\"></td>\n",
       "</tr>\n",
       "<tr class=\"iris\">\n",
       "    <td class=\"iris-word-cell iris-subheading-cell\">\tmean                        season_year</td>\n",
       "    <td class=\"iris-word-cell\" colspan=\"3\"></td>\n",
       "</tr>\n",
       "<tr class=\"iris\">\n",
       "    <td class=\"iris-title iris-word-cell\">Attributes</td>\n",
       "    <td class=\"iris-title\"></td>\n",
       "    <td class=\"iris-title\"></td>\n",
       "    <td class=\"iris-title\"><br>Conventions                 CF-1.7 CMIP-6.0 UGRID-1.0<br>activity_id                 CMIP<br>branch_method               standard<br>branch_time_in_child        0.0<br>branch_time_in_parent       54750.0<br>comment                     Model data on the 1x1 grid includes values in all cells for which any ocean...<br>contact                     gfdl.climate.model.info@noaa.gov</td>\n",
       "</tr>\n",
       "<tr class=\"iris\">\n",
       "    <td class=\"iris-word-cell iris-subheading-cell\">\tcreation_date               2019-02-03T16</td>\n",
       "    <td class=\"iris-word-cell\" colspan=\"3\">2:06Z<br>data_specs_version          01.00.27<br>experiment                  pre-industrial control<br>experiment_id               piControl<br>external_variables          areacello<br>forcing_index               1<br>frequency                   mon</td>\n",
       "</tr>\n",
       "<tr class=\"iris\">\n",
       "    <td class=\"iris-word-cell iris-subheading-cell\">\tfurther_info_url            https</td>\n",
       "    <td class=\"iris-word-cell\" colspan=\"3\">/furtherinfo.es-doc.org/CMIP6.NOAA-GFDL.GFDL-CM4.piControl.none...<br>grid                        seaIce data regridded from tripolar - nominal 0.25 deg latitude/longitude...<br>grid_label                  gr</td>\n",
       "</tr>\n",
       "<tr class=\"iris\">\n",
       "    <td class=\"iris-word-cell iris-subheading-cell\">\thistory                     File was processed by fremetar (GFDL analog of CMOR). TripleID</td>\n",
       "    <td class=\"iris-word-cell\" colspan=\"3\">[exper...<br>initialization_index        1<br>institution                 National Oceanic and Atmospheric Administration, Geophysical Fluid Dynamics...<br>institution_id              NOAA-GFDL<br>interp_method               conserve_order1<br>license                     CMIP6 model data produced by NOAA-GFDL is licensed under a Creative Commons...<br>mip_era                     CMIP6<br>nominal_resolution          1x1 degree<br>original_name               siconc<br>parent_activity_id          CMIP<br>parent_experiment_id        piControl-spinup<br>parent_mip_era              CMIP6<br>parent_source_id            GFDL-CM4<br>parent_time_units           days since 1700-1-1<br>parent_variant_label        r1i1p1f1<br>physics_index               1<br>product                     model-output<br>realization_index           1<br>realm                       seaIce<br>references                  see further_info_url attribute</td>\n",
       "</tr>\n",
       "<tr class=\"iris\">\n",
       "    <td class=\"iris-word-cell iris-subheading-cell\">\tsource                      &#x27;GFDL-CM4 (2018)</td>\n",
       "    <td class=\"iris-word-cell\" colspan=\"3\">\\naerosol: interactive\\natmos: GFDL-AM4.0.1 (Cubed-sphere...<br>source_id                   GFDL-CM4<br>source_type                 AOGCM<br>sub_experiment              none<br>sub_experiment_id           none<br>table_id                    SImon<br>title                       NOAA GFDL GFDL-CM4 model output prepared for CMIP6 pre-industrial cont...</td>\n",
       "</tr>\n",
       "<tr class=\"iris\">\n",
       "    <td class=\"iris-word-cell iris-subheading-cell\">\ttracking_id                 hdl</td>\n",
       "    <td class=\"iris-word-cell\" colspan=\"3\">1.14100/29b16667-5c91-4703-b1c7-4202638c5c4c<br>variable_id                 siconc<br>variant_info                N/A<br>variant_label               r1i1p1f1</td>\n",
       "</tr>\n",
       "</table>\n",
       "        "
      ],
      "text/plain": [
       "<iris 'Cube' of sea_ice_area_fraction / (%) (time: 100; latitude: 180; longitude: 360)>"
      ]
     },
     "execution_count": 25,
     "metadata": {},
     "output_type": "execute_result"
    }
   ],
   "source": [
    "#extract Jan and Dec to average the siconc across these months\n",
    "\n",
    "add_month_number(siconc, 'time', name='month_number')\n",
    "season_cube = siconc[np.where((siconc.coord('month_number').points == 12) |(siconc.coord('month_number')==1))]\n",
    "\n",
    "#then to average this by each year, so that you have the December-Jan for each year add the 'season year', i.e. a number of each 'season'\n",
    "add_season_year(season_cube, 'time', name='season_year')\n",
    "\n",
    "#then average by the season year:\n",
    "season_cube.aggregated_by(['season_year'], iris.analysis.MEAN)"
   ]
  },
  {
   "cell_type": "code",
   "execution_count": 26,
   "id": "d9fdee11-e7ec-44ac-a0b4-1660e840ec2e",
   "metadata": {},
   "outputs": [
    {
     "data": {
      "image/png": "[encoded data removed]",
      "text/plain": [
       "<Figure size 432x288 with 1 Axes>"
      ]
     },
     "metadata": {
      "needs_background": "light"
     },
     "output_type": "display_data"
    }
   ],
   "source": [
    "#identify the Ross Sea\n",
    "\n",
    "cube3=season_cube[0,:,:]\n",
    "\n",
    "west = -230 \n",
    "east = -110 \n",
    "south = -85 \n",
    "north = -60\n",
    "temporary_cube = cube3.intersection(longitude = (west, east)) \n",
    "regional_cube = temporary_cube.intersection(latitude = (south, north))\n",
    "ax1 = plt.subplot(111,projection=ccrs.PlateCarree(central_longitude=np.round(west + (east - west)/2.0))) \n",
    "my_plot = iplt.contourf(regional_cube)\n",
    "plt.gca().gridlines(draw_labels=True)\n",
    "\n",
    "plt.show()"
   ]
  },
  {
   "cell_type": "code",
   "execution_count": 28,
   "id": "16a2abb0-c29e-4ef8-be55-246dd6dececb",
   "metadata": {},
   "outputs": [
    {
     "name": "stdout",
     "output_type": "stream",
     "text": [
      "71.95594200721153\n"
     ]
    }
   ],
   "source": [
    "#extract the most northerly row of cells:\n",
    "north_edge = regional_cube.extract(iris.Constraint(latitude=-68))\n",
    "\n",
    "#average across this latitude to find siconc of more than 70%\n",
    "north_edge_mean = north_edge.collapsed('longitude', iris.analysis.MEAN)\n",
    "print(north_edge_mean.data)"
   ]
  },
  {
   "cell_type": "code",
   "execution_count": 48,
   "id": "b1b693e0-d986-475e-bd1b-69942ddaf10b",
   "metadata": {},
   "outputs": [
    {
     "ename": "ValueError",
     "evalue": "The truth value of an array with more than one element is ambiguous. Use a.any() or a.all()",
     "output_type": "error",
     "traceback": [
      "\u001b[0;31m---------------------------------------------------------------------------\u001b[0m",
      "\u001b[0;31mValueError\u001b[0m                                Traceback (most recent call last)",
      "\u001b[0;32m/var/folders/k_/kjd3hqlx6qb62y71t7q2cs7r0000gn/T/ipykernel_38409/175801792.py\u001b[0m in \u001b[0;36m<module>\u001b[0;34m\u001b[0m\n\u001b[1;32m      3\u001b[0m \u001b[0;34m\u001b[0m\u001b[0m\n\u001b[1;32m      4\u001b[0m \u001b[0;31m#if statement to define siconc of 30% surrounded by siconc of 70+%\u001b[0m\u001b[0;34m\u001b[0m\u001b[0;34m\u001b[0m\u001b[0;34m\u001b[0m\u001b[0m\n\u001b[0;32m----> 5\u001b[0;31m \u001b[0;32mif\u001b[0m \u001b[0mpolynya_threshold\u001b[0m \u001b[0;34m<=\u001b[0m \u001b[0;36m30\u001b[0m \u001b[0;32mand\u001b[0m \u001b[0mnorth_edge_mean\u001b[0m \u001b[0;34m>=\u001b[0m \u001b[0;36m70\u001b[0m\u001b[0;34m:\u001b[0m\u001b[0;34m\u001b[0m\u001b[0;34m\u001b[0m\u001b[0m\n\u001b[0m\u001b[1;32m      6\u001b[0m     \u001b[0mqplt\u001b[0m\u001b[0;34m.\u001b[0m\u001b[0mpcoloresh\u001b[0m\u001b[0;34m\u001b[0m\u001b[0;34m\u001b[0m\u001b[0m\n",
      "\u001b[0;31mValueError\u001b[0m: The truth value of an array with more than one element is ambiguous. Use a.any() or a.all()"
     ]
    }
   ],
   "source": [
    "#define siconc for polynya\n",
    "polynya_threshold=regional_cube.data\n",
    "\n",
    "#if statement to define siconc of 30% surrounded by siconc of 70+%\n",
    "if polynya_threshold <= 30 and north_edge_mean >= 70:\n",
    "    qplt.pcoloresh"
   ]
  },
  {
   "cell_type": "code",
   "execution_count": 46,
   "id": "2c703f26-4b26-4393-a785-838a83a598cc",
   "metadata": {},
   "outputs": [
    {
     "ename": "CoordinateNotFoundError",
     "evalue": "'Expected to find exactly 1 season_cube coordinate, but found none.'",
     "output_type": "error",
     "traceback": [
      "\u001b[0;31m---------------------------------------------------------------------------\u001b[0m",
      "\u001b[0;31mCoordinateNotFoundError\u001b[0m                   Traceback (most recent call last)",
      "\u001b[0;32m/var/folders/k_/kjd3hqlx6qb62y71t7q2cs7r0000gn/T/ipykernel_38409/3517851176.py\u001b[0m in \u001b[0;36m<module>\u001b[0;34m\u001b[0m\n\u001b[1;32m      1\u001b[0m \u001b[0;31m#create a loop for each year to run over each season year\u001b[0m\u001b[0;34m\u001b[0m\u001b[0;34m\u001b[0m\u001b[0;34m\u001b[0m\u001b[0m\n\u001b[1;32m      2\u001b[0m \u001b[0;34m\u001b[0m\u001b[0m\n\u001b[0;32m----> 3\u001b[0;31m \u001b[0;32mfor\u001b[0m \u001b[0mi\u001b[0m\u001b[0;34m,\u001b[0m\u001b[0mslice\u001b[0m \u001b[0;32min\u001b[0m \u001b[0menumerate\u001b[0m\u001b[0;34m(\u001b[0m\u001b[0mregional_cube\u001b[0m\u001b[0;34m.\u001b[0m\u001b[0mslices\u001b[0m\u001b[0;34m(\u001b[0m\u001b[0;34m[\u001b[0m\u001b[0;34m'season_cube'\u001b[0m\u001b[0;34m]\u001b[0m\u001b[0;34m)\u001b[0m\u001b[0;34m)\u001b[0m\u001b[0;34m:\u001b[0m\u001b[0;34m\u001b[0m\u001b[0;34m\u001b[0m\u001b[0m\n\u001b[0m\u001b[1;32m      4\u001b[0m     \u001b[0mregional_cube\u001b[0m\u001b[0;34m[\u001b[0m\u001b[0mi\u001b[0m\u001b[0;34m]\u001b[0m \u001b[0;34m=\u001b[0m \u001b[0mnp\u001b[0m\u001b[0;34m.\u001b[0m\u001b[0mmax\u001b[0m\u001b[0;34m(\u001b[0m\u001b[0mslice\u001b[0m\u001b[0;34m.\u001b[0m\u001b[0mdata\u001b[0m\u001b[0;34m)\u001b[0m\u001b[0;34m\u001b[0m\u001b[0;34m\u001b[0m\u001b[0m\n",
      "\u001b[0;32m~/opt/miniconda3/lib/python3.9/site-packages/iris/cube.py\u001b[0m in \u001b[0;36mslices\u001b[0;34m(self, ref_to_slice, ordered)\u001b[0m\n\u001b[1;32m   2960\u001b[0m             \u001b[0;32mtry\u001b[0m\u001b[0;34m:\u001b[0m\u001b[0;34m\u001b[0m\u001b[0;34m\u001b[0m\u001b[0m\n\u001b[1;32m   2961\u001b[0m                 \u001b[0;31m# attempt to handle as coordinate\u001b[0m\u001b[0;34m\u001b[0m\u001b[0;34m\u001b[0m\u001b[0;34m\u001b[0m\u001b[0m\n\u001b[0;32m-> 2962\u001b[0;31m                 \u001b[0mcoord\u001b[0m \u001b[0;34m=\u001b[0m \u001b[0mself\u001b[0m\u001b[0;34m.\u001b[0m\u001b[0m_as_list_of_coords\u001b[0m\u001b[0;34m(\u001b[0m\u001b[0mref\u001b[0m\u001b[0;34m)\u001b[0m\u001b[0;34m[\u001b[0m\u001b[0;36m0\u001b[0m\u001b[0;34m]\u001b[0m\u001b[0;34m\u001b[0m\u001b[0;34m\u001b[0m\u001b[0m\n\u001b[0m\u001b[1;32m   2963\u001b[0m                 \u001b[0mdims\u001b[0m \u001b[0;34m=\u001b[0m \u001b[0mself\u001b[0m\u001b[0;34m.\u001b[0m\u001b[0mcoord_dims\u001b[0m\u001b[0;34m(\u001b[0m\u001b[0mcoord\u001b[0m\u001b[0;34m)\u001b[0m\u001b[0;34m\u001b[0m\u001b[0;34m\u001b[0m\u001b[0m\n\u001b[1;32m   2964\u001b[0m                 \u001b[0;32mif\u001b[0m \u001b[0;32mnot\u001b[0m \u001b[0mdims\u001b[0m\u001b[0;34m:\u001b[0m\u001b[0;34m\u001b[0m\u001b[0;34m\u001b[0m\u001b[0m\n",
      "\u001b[0;32m~/opt/miniconda3/lib/python3.9/site-packages/iris/cube.py\u001b[0m in \u001b[0;36m_as_list_of_coords\u001b[0;34m(self, names_or_coords)\u001b[0m\n\u001b[1;32m   2850\u001b[0m                 \u001b[0mname_or_coord\u001b[0m\u001b[0;34m,\u001b[0m \u001b[0miris\u001b[0m\u001b[0;34m.\u001b[0m\u001b[0mcoords\u001b[0m\u001b[0;34m.\u001b[0m\u001b[0mCoord\u001b[0m\u001b[0;34m\u001b[0m\u001b[0;34m\u001b[0m\u001b[0m\n\u001b[1;32m   2851\u001b[0m             ):\n\u001b[0;32m-> 2852\u001b[0;31m                 \u001b[0mcoords\u001b[0m\u001b[0;34m.\u001b[0m\u001b[0mappend\u001b[0m\u001b[0;34m(\u001b[0m\u001b[0mself\u001b[0m\u001b[0;34m.\u001b[0m\u001b[0mcoord\u001b[0m\u001b[0;34m(\u001b[0m\u001b[0mname_or_coord\u001b[0m\u001b[0;34m)\u001b[0m\u001b[0;34m)\u001b[0m\u001b[0;34m\u001b[0m\u001b[0;34m\u001b[0m\u001b[0m\n\u001b[0m\u001b[1;32m   2853\u001b[0m             \u001b[0;32melse\u001b[0m\u001b[0;34m:\u001b[0m\u001b[0;34m\u001b[0m\u001b[0;34m\u001b[0m\u001b[0m\n\u001b[1;32m   2854\u001b[0m                 \u001b[0;31m# Don't know how to handle this type\u001b[0m\u001b[0;34m\u001b[0m\u001b[0;34m\u001b[0m\u001b[0;34m\u001b[0m\u001b[0m\n",
      "\u001b[0;32m~/opt/miniconda3/lib/python3.9/site-packages/iris/cube.py\u001b[0m in \u001b[0;36mcoord\u001b[0;34m(self, name_or_coord, standard_name, long_name, var_name, attributes, axis, contains_dimension, dimensions, coord_system, dim_coords)\u001b[0m\n\u001b[1;32m   1841\u001b[0m                 \u001b[0;34m\"none.\"\u001b[0m \u001b[0;34m%\u001b[0m \u001b[0mbad_name\u001b[0m\u001b[0;34m\u001b[0m\u001b[0;34m\u001b[0m\u001b[0m\n\u001b[1;32m   1842\u001b[0m             )\n\u001b[0;32m-> 1843\u001b[0;31m             \u001b[0;32mraise\u001b[0m \u001b[0miris\u001b[0m\u001b[0;34m.\u001b[0m\u001b[0mexceptions\u001b[0m\u001b[0;34m.\u001b[0m\u001b[0mCoordinateNotFoundError\u001b[0m\u001b[0;34m(\u001b[0m\u001b[0mmsg\u001b[0m\u001b[0;34m)\u001b[0m\u001b[0;34m\u001b[0m\u001b[0;34m\u001b[0m\u001b[0m\n\u001b[0m\u001b[1;32m   1844\u001b[0m \u001b[0;34m\u001b[0m\u001b[0m\n\u001b[1;32m   1845\u001b[0m         \u001b[0;32mreturn\u001b[0m \u001b[0mcoords\u001b[0m\u001b[0;34m[\u001b[0m\u001b[0;36m0\u001b[0m\u001b[0;34m]\u001b[0m\u001b[0;34m\u001b[0m\u001b[0;34m\u001b[0m\u001b[0m\n",
      "\u001b[0;31mCoordinateNotFoundError\u001b[0m: 'Expected to find exactly 1 season_cube coordinate, but found none.'"
     ]
    }
   ],
   "source": [
    "#create a loop for each year to run over each season year\n",
    "year_start=2015\n",
    "year_end=2100\n",
    "\n",
    " # Iterate over all possible latitude longitude slices.\n",
    "for season_cube in regional_year.slices([\"latitude\", \"longitude\"]):\n",
    "    \n",
    "    if polynya_threshold <= 30 and north_edge_mean >= 70:\n",
    "        plt.subplot\n",
    "    else:\n",
    "        print('no polynya')"
   ]
  },
  {
   "cell_type": "code",
   "execution_count": 31,
   "id": "66d24ce0-6a44-4352-b74d-ebec6a345bda",
   "metadata": {},
   "outputs": [
    {
     "ename": "NameError",
     "evalue": "name 'result' is not defined",
     "output_type": "error",
     "traceback": [
      "\u001b[0;31m---------------------------------------------------------------------------\u001b[0m",
      "\u001b[0;31mNameError\u001b[0m                                 Traceback (most recent call last)",
      "\u001b[0;32m/var/folders/k_/kjd3hqlx6qb62y71t7q2cs7r0000gn/T/ipykernel_38409/933129320.py\u001b[0m in \u001b[0;36m<module>\u001b[0;34m\u001b[0m\n\u001b[1;32m      1\u001b[0m \u001b[0;31m#calculate the area of the ouput (polynya)\u001b[0m\u001b[0;34m\u001b[0m\u001b[0;34m\u001b[0m\u001b[0;34m\u001b[0m\u001b[0m\n\u001b[0;32m----> 2\u001b[0;31m \u001b[0mresult\u001b[0m\u001b[0;34m.\u001b[0m\u001b[0mcoord\u001b[0m\u001b[0;34m(\u001b[0m\u001b[0;34m'grid_latitude'\u001b[0m\u001b[0;34m)\u001b[0m\u001b[0;34m.\u001b[0m\u001b[0mguess_bounds\u001b[0m\u001b[0;34m(\u001b[0m\u001b[0;34m)\u001b[0m\u001b[0;34m\u001b[0m\u001b[0;34m\u001b[0m\u001b[0m\n\u001b[0m\u001b[1;32m      3\u001b[0m \u001b[0mresult\u001b[0m\u001b[0;34m.\u001b[0m\u001b[0mcoord\u001b[0m\u001b[0;34m(\u001b[0m\u001b[0;34m'grid_longitude'\u001b[0m\u001b[0;34m)\u001b[0m\u001b[0;34m.\u001b[0m\u001b[0mguess_bounds\u001b[0m\u001b[0;34m(\u001b[0m\u001b[0;34m)\u001b[0m\u001b[0;34m\u001b[0m\u001b[0;34m\u001b[0m\u001b[0m\n\u001b[1;32m      4\u001b[0m \u001b[0mgrid_areas\u001b[0m \u001b[0;34m=\u001b[0m \u001b[0miris\u001b[0m\u001b[0;34m.\u001b[0m\u001b[0manalysis\u001b[0m\u001b[0;34m.\u001b[0m\u001b[0mcartography\u001b[0m\u001b[0;34m.\u001b[0m\u001b[0marea_weights\u001b[0m\u001b[0;34m(\u001b[0m\u001b[0mcube\u001b[0m\u001b[0;34m)\u001b[0m\u001b[0;34m\u001b[0m\u001b[0;34m\u001b[0m\u001b[0m\n\u001b[1;32m      5\u001b[0m \u001b[0;34m\u001b[0m\u001b[0m\n",
      "\u001b[0;31mNameError\u001b[0m: name 'result' is not defined"
     ]
    }
   ],
   "source": [
    "#calculate the area of the ouput (polynya)\n",
    "#result being the output from previous cell which doesn't run\n",
    "\n",
    "result.coord('grid_latitude').guess_bounds()\n",
    "result.coord('grid_longitude').guess_bounds()\n",
    "grid_areas = iris.analysis.cartography.area_weights(cube)\n",
    "\n",
    "cube_vf = result.collapsed(['grid_longitude', 'grid_latitude'], iris.analysis.MEAN, weights=grid_areas)"
   ]
  }
 ],
 "metadata": {
  "kernelspec": {
   "display_name": "Python 3 (ipykernel)",
   "language": "python",
   "name": "python3"
  },
  "language_info": {
   "codemirror_mode": {
    "name": "ipython",
    "version": 3
   },
   "file_extension": ".py",
   "mimetype": "text/x-python",
   "name": "python",
   "nbconvert_exporter": "python",
   "pygments_lexer": "ipython3",
   "version": "3.9.5"
  }
 },
 "nbformat": 4,
 "nbformat_minor": 5
}
