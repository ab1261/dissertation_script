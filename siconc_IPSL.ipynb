{
 "cells": [
  {
   "cell_type": "code",
   "execution_count": 1,
   "id": "73a57202-603d-4929-8614-24393172bb32",
   "metadata": {},
   "outputs": [],
   "source": [
    "import cartopy.crs as ccrs\n",
    "import matplotlib.pyplot as plt\n",
    "import iris.analysis.cartography\n",
    "import iris.plot as iplt\n",
    "import iris.quickplot as qplt\n",
    "import numpy as np\n",
    "import matplotlib.ticker as mticker\n",
    "from numpy import *\n",
    "from matplotlib.pyplot import *\n",
    "from iris.analysis import *\n",
    "from iris.coord_categorisation import *\n",
    "from iris.analysis.cartography import *\n",
    "from scipy.stats import *\n",
    "from scipy.stats.mstats import *\n",
    "from iris import *"
   ]
  },
  {
   "cell_type": "code",
   "execution_count": 4,
   "id": "da988874-c9d7-4e65-b86c-7a1930716d01",
   "metadata": {},
   "outputs": [
    {
     "name": "stderr",
     "output_type": "stream",
     "text": [
      "/Users/alicebrindley/opt/miniconda3/lib/python3.9/site-packages/iris/fileformats/cf.py:859: UserWarning: Missing CF-netCDF measure variable 'areacello', referenced by netCDF variable 'siconc'\n",
      "  warnings.warn(\n"
     ]
    },
    {
     "name": "stdout",
     "output_type": "stream",
     "text": [
      "0: cell_area / (m2)                    (-- : 332; -- : 362)\n",
      "1: sea_ice_area_fraction / (%)         (time: 1032; -- : 332; -- : 362)\n"
     ]
    }
   ],
   "source": [
    "fname = '/Users/alicebrindley/Dropbox/YEAR_3/Dissertation/Models/dissertation_script/IPSL/siconc_SImon_IPSL-CM6A-LR_ssp370_r1i1p1f1_gn_201501-210012-2.nc'\n",
    "cube = iris.load(fname)\n",
    "print(cube)"
   ]
  },
  {
   "cell_type": "code",
   "execution_count": 5,
   "id": "eeb27986-9063-4e6d-a559-500e2a68e7d3",
   "metadata": {},
   "outputs": [
    {
     "name": "stdout",
     "output_type": "stream",
     "text": [
      "sea_ice_area_fraction / (%)         (time: 1032; -- : 332; -- : 362)\n",
      "    Dimension coordinates:\n",
      "        time                             x          -         -\n",
      "    Auxiliary coordinates:\n",
      "        latitude                         -          x         x\n",
      "        longitude                        -          x         x\n",
      "    Scalar coordinates:\n",
      "        area_type                   typesi\n",
      "    Cell methods:\n",
      "        mean where sea              area\n",
      "        mean                        time\n",
      "    Attributes:\n",
      "        CMIP6_CV_version            cv=6.2.3.5-2-g63b123e\n",
      "        Conventions                 CF-1.7 CMIP-6.2\n",
      "        EXPID                       ssp370\n",
      "        activity_id                 ScenarioMIP AerChemMIP\n",
      "        branch_method               standard\n",
      "        branch_time_in_child        0.0\n",
      "        branch_time_in_parent       60265.0\n",
      "        contact                     ipsl-cmip6@listes.ipsl.fr\n",
      "        creation_date               2018-12-18T20:37:33Z\n",
      "        data_specs_version          01.00.28\n",
      "        description                 Area fraction of grid cell covered by sea ice\n",
      "        dr2xml_md5sum               c2dce418e78ca835be1e2ff817c2c403\n",
      "        dr2xml_version              1.16\n",
      "        experiment                  gap-filling scenario reaching 7.0 based on SSP3\n",
      "        experiment_id               ssp370\n",
      "        external_variables          areacello\n",
      "        forcing_index               1\n",
      "        frequency                   mon\n",
      "        further_info_url            https://furtherinfo.es-doc.org/CMIP6.IPSL.IPSL-CM6A-LR.ssp370.none.r1i...\n",
      "        grid                        native ocean tri-polar grid with 105 k ocean cells\n",
      "        grid_label                  gn\n",
      "        history                     none\n",
      "        initialization_index        1\n",
      "        institution                 Institut Pierre Simon Laplace, Paris 75252, France\n",
      "        institution_id              IPSL\n",
      "        interval_operation          2700 s\n",
      "        interval_write              1 month\n",
      "        license                     CMIP6 model data produced by IPSL is licensed under a Creative Commons...\n",
      "        mip_era                     CMIP6\n",
      "        model_version               6.1.8\n",
      "        name                        /ccc/work/cont003/gencmip6/p86caub/IGCM_OUT/IPSLCM6/PROD/ssp370/CM61-L...\n",
      "        nominal_resolution          100 km\n",
      "        online_operation            average\n",
      "        parent_activity_id          CMIP\n",
      "        parent_experiment_id        historical\n",
      "        parent_mip_era              CMIP6\n",
      "        parent_source_id            IPSL-CM6A-LR\n",
      "        parent_time_units           days since 1850-01-01 00:00:00\n",
      "        parent_variant_label        r1i1p1f1\n",
      "        physics_index               1\n",
      "        product                     model-output\n",
      "        realization_index           1\n",
      "        realm                       seaIce\n",
      "        source                      IPSL-CM6A-LR (2017):  atmos: LMDZ (NPv6, N96; 144 x 143 longitude/latitude;...\n",
      "        source_id                   IPSL-CM6A-LR\n",
      "        source_type                 AOGCM BGC\n",
      "        sub_experiment              none\n",
      "        sub_experiment_id           none\n",
      "        table_id                    SImon\n",
      "        title                       IPSL-CM6A-LR model output prepared for CMIP6 / ScenarioMIP AerChemMIP ...\n",
      "        tracking_id                 hdl:21.14100/7af17791-6357-444e-a576-d097334e0ced\n",
      "        variable_id                 siconc\n",
      "        variant_info                Each member starts from the corresponding member of its parent experiment....\n",
      "        variant_label               r1i1p1f1\n"
     ]
    }
   ],
   "source": [
    "siconc = cube[1]\n",
    "print(siconc)"
   ]
  },
  {
   "cell_type": "code",
   "execution_count": 6,
   "id": "67a69a06-bae2-45cc-bbfa-5bc65e230606",
   "metadata": {},
   "outputs": [
    {
     "data": {
      "text/html": [
       "\n",
       "<style>\n",
       "  a.iris {\n",
       "      text-decoration: none !important;\n",
       "  }\n",
       "  table.iris {\n",
       "      white-space: pre;\n",
       "      border: 1px solid;\n",
       "      border-color: #9c9c9c;\n",
       "      font-family: monaco, monospace;\n",
       "  }\n",
       "  th.iris {\n",
       "      background: #303f3f;\n",
       "      color: #e0e0e0;\n",
       "      border-left: 1px solid;\n",
       "      border-color: #9c9c9c;\n",
       "      font-size: 1.05em;\n",
       "      min-width: 50px;\n",
       "      max-width: 125px;\n",
       "  }\n",
       "  tr.iris :first-child {\n",
       "      border-right: 1px solid #9c9c9c !important;\n",
       "  }\n",
       "  td.iris-title {\n",
       "      background: #d5dcdf;\n",
       "      border-top: 1px solid #9c9c9c;\n",
       "      font-weight: bold;\n",
       "  }\n",
       "  .iris-word-cell {\n",
       "      text-align: left !important;\n",
       "      white-space: pre;\n",
       "  }\n",
       "  .iris-subheading-cell {\n",
       "      padding-left: 2em !important;\n",
       "  }\n",
       "  .iris-inclusion-cell {\n",
       "      padding-right: 1em !important;\n",
       "  }\n",
       "  .iris-panel-body {\n",
       "      padding-top: 0px;\n",
       "  }\n",
       "  .iris-panel-title {\n",
       "      padding-left: 3em;\n",
       "  }\n",
       "  .iris-panel-title {\n",
       "      margin-top: 7px;\n",
       "  }\n",
       "</style>\n",
       "<table class=\"iris\" id=\"140605769378304\">\n",
       "    <tr class=\"iris\">\n",
       "<th class=\"iris iris-word-cell\">Sea Ice Area Fraction (%)</th>\n",
       "<th class=\"iris iris-word-cell\">time</th>\n",
       "<th class=\"iris iris-word-cell\">--</th>\n",
       "<th class=\"iris iris-word-cell\">--</th>\n",
       "</tr>\n",
       "    <tr class=\"iris\">\n",
       "<td class=\"iris-word-cell iris-subheading-cell\">Shape</td>\n",
       "<td class=\"iris iris-inclusion-cell\">86</td>\n",
       "<td class=\"iris iris-inclusion-cell\">332</td>\n",
       "<td class=\"iris iris-inclusion-cell\">362</td>\n",
       "</tr>\n",
       "    <tr class=\"iris\">\n",
       "    <td class=\"iris-title iris-word-cell\">Dimension coordinates</td>\n",
       "    <td class=\"iris-title\"></td>\n",
       "    <td class=\"iris-title\"></td>\n",
       "    <td class=\"iris-title\"></td>\n",
       "</tr>\n",
       "<tr class=\"iris\">\n",
       "    <td class=\"iris-word-cell iris-subheading-cell\">\ttime</td>\n",
       "    <td class=\"iris-inclusion-cell\">x</td>\n",
       "    <td class=\"iris-inclusion-cell\">-</td>\n",
       "    <td class=\"iris-inclusion-cell\">-</td>\n",
       "</tr>\n",
       "<tr class=\"iris\">\n",
       "    <td class=\"iris-title iris-word-cell\">Auxiliary coordinates</td>\n",
       "    <td class=\"iris-title\"></td>\n",
       "    <td class=\"iris-title\"></td>\n",
       "    <td class=\"iris-title\"></td>\n",
       "</tr>\n",
       "<tr class=\"iris\">\n",
       "    <td class=\"iris-word-cell iris-subheading-cell\">\tmonth_number</td>\n",
       "    <td class=\"iris-inclusion-cell\">x</td>\n",
       "    <td class=\"iris-inclusion-cell\">-</td>\n",
       "    <td class=\"iris-inclusion-cell\">-</td>\n",
       "</tr>\n",
       "<tr class=\"iris\">\n",
       "    <td class=\"iris-word-cell iris-subheading-cell\">\tseason_year</td>\n",
       "    <td class=\"iris-inclusion-cell\">x</td>\n",
       "    <td class=\"iris-inclusion-cell\">-</td>\n",
       "    <td class=\"iris-inclusion-cell\">-</td>\n",
       "</tr>\n",
       "<tr class=\"iris\">\n",
       "    <td class=\"iris-word-cell iris-subheading-cell\">\tlatitude</td>\n",
       "    <td class=\"iris-inclusion-cell\">-</td>\n",
       "    <td class=\"iris-inclusion-cell\">x</td>\n",
       "    <td class=\"iris-inclusion-cell\">x</td>\n",
       "</tr>\n",
       "<tr class=\"iris\">\n",
       "    <td class=\"iris-word-cell iris-subheading-cell\">\tlongitude</td>\n",
       "    <td class=\"iris-inclusion-cell\">-</td>\n",
       "    <td class=\"iris-inclusion-cell\">x</td>\n",
       "    <td class=\"iris-inclusion-cell\">x</td>\n",
       "</tr>\n",
       "<tr class=\"iris\">\n",
       "    <td class=\"iris-title iris-word-cell\">Scalar coordinates</td>\n",
       "    <td class=\"iris-title\"></td>\n",
       "    <td class=\"iris-title\"></td>\n",
       "    <td class=\"iris-title\"><br>area_type                   typesi</td>\n",
       "</tr>\n",
       "<tr class=\"iris\">\n",
       "    <td class=\"iris-title iris-word-cell\">Cell methods</td>\n",
       "    <td class=\"iris-title\"></td>\n",
       "    <td class=\"iris-title\"></td>\n",
       "    <td class=\"iris-title\"></td>\n",
       "</tr>\n",
       "<tr class=\"iris\">\n",
       "    <td class=\"iris-word-cell iris-subheading-cell\">\tmean where sea              area</td>\n",
       "    <td class=\"iris-word-cell\" colspan=\"3\"></td>\n",
       "</tr>\n",
       "<tr class=\"iris\">\n",
       "    <td class=\"iris-word-cell iris-subheading-cell\">\tmean                        time</td>\n",
       "    <td class=\"iris-word-cell\" colspan=\"3\"></td>\n",
       "</tr>\n",
       "<tr class=\"iris\">\n",
       "    <td class=\"iris-word-cell iris-subheading-cell\">\tmean                        season_year</td>\n",
       "    <td class=\"iris-word-cell\" colspan=\"3\"></td>\n",
       "</tr>\n",
       "<tr class=\"iris\">\n",
       "    <td class=\"iris-title iris-word-cell\">Attributes</td>\n",
       "    <td class=\"iris-title\"></td>\n",
       "    <td class=\"iris-title\"></td>\n",
       "    <td class=\"iris-title\"><br>CMIP6_CV_version            cv=6.2.3.5-2-g63b123e<br>Conventions                 CF-1.7 CMIP-6.2<br>EXPID                       ssp370<br>activity_id                 ScenarioMIP AerChemMIP<br>branch_method               standard<br>branch_time_in_child        0.0<br>branch_time_in_parent       60265.0<br>contact                     ipsl-cmip6@listes.ipsl.fr</td>\n",
       "</tr>\n",
       "<tr class=\"iris\">\n",
       "    <td class=\"iris-word-cell iris-subheading-cell\">\tcreation_date               2018-12-18T20</td>\n",
       "    <td class=\"iris-word-cell\" colspan=\"3\">7:33Z<br>data_specs_version          01.00.28<br>description                 Area fraction of grid cell covered by sea ice<br>dr2xml_md5sum               c2dce418e78ca835be1e2ff817c2c403<br>dr2xml_version              1.16<br>experiment                  gap-filling scenario reaching 7.0 based on SSP3<br>experiment_id               ssp370<br>external_variables          areacello<br>forcing_index               1<br>frequency                   mon</td>\n",
       "</tr>\n",
       "<tr class=\"iris\">\n",
       "    <td class=\"iris-word-cell iris-subheading-cell\">\tfurther_info_url            https</td>\n",
       "    <td class=\"iris-word-cell\" colspan=\"3\">/furtherinfo.es-doc.org/CMIP6.IPSL.IPSL-CM6A-LR.ssp370.none.r1i...<br>grid                        native ocean tri-polar grid with 105 k ocean cells<br>grid_label                  gn<br>history                     none<br>initialization_index        1<br>institution                 Institut Pierre Simon Laplace, Paris 75252, France<br>institution_id              IPSL<br>interval_operation          2700 s<br>interval_write              1 month<br>license                     CMIP6 model data produced by IPSL is licensed under a Creative Commons...<br>mip_era                     CMIP6<br>model_version               6.1.8<br>name                        /ccc/work/cont003/gencmip6/p86caub/IGCM_OUT/IPSLCM6/PROD/ssp370/CM61-L...<br>nominal_resolution          100 km<br>online_operation            average<br>parent_activity_id          CMIP<br>parent_experiment_id        historical<br>parent_mip_era              CMIP6<br>parent_source_id            IPSL-CM6A-LR</td>\n",
       "</tr>\n",
       "<tr class=\"iris\">\n",
       "    <td class=\"iris-word-cell iris-subheading-cell\">\tparent_time_units           days since 1850-01-01 00</td>\n",
       "    <td class=\"iris-word-cell\" colspan=\"3\">0:00<br>parent_variant_label        r1i1p1f1<br>physics_index               1<br>product                     model-output<br>realization_index           1<br>realm                       seaIce</td>\n",
       "</tr>\n",
       "<tr class=\"iris\">\n",
       "    <td class=\"iris-word-cell iris-subheading-cell\">\tsource                      IPSL-CM6A-LR (2017)</td>\n",
       "    <td class=\"iris-word-cell\" colspan=\"3\">atmos: LMDZ (NPv6, N96; 144 x 143 longitude/latitude;...<br>source_id                   IPSL-CM6A-LR<br>source_type                 AOGCM BGC<br>sub_experiment              none<br>sub_experiment_id           none<br>table_id                    SImon<br>title                       IPSL-CM6A-LR model output prepared for CMIP6 / ScenarioMIP AerChemMIP ...</td>\n",
       "</tr>\n",
       "<tr class=\"iris\">\n",
       "    <td class=\"iris-word-cell iris-subheading-cell\">\ttracking_id                 hdl</td>\n",
       "    <td class=\"iris-word-cell\" colspan=\"3\">1.14100/7af17791-6357-444e-a576-d097334e0ced<br>variable_id                 siconc<br>variant_info                Each member starts from the corresponding member of its parent experiment....<br>variant_label               r1i1p1f1</td>\n",
       "</tr>\n",
       "</table>\n",
       "        "
      ],
      "text/plain": [
       "<iris 'Cube' of sea_ice_area_fraction / (%) (time: 86; -- : 332; -- : 362)>"
      ]
     },
     "execution_count": 6,
     "metadata": {},
     "output_type": "execute_result"
    }
   ],
   "source": [
    "#extract Jan and Dec to average the siconc across these months\n",
    "\n",
    "add_month_number(siconc, 'time', name='month_number')\n",
    "season_cube = siconc[np.where((siconc.coord('month_number').points == 12) |(siconc.coord('month_number')==1))]\n",
    "\n",
    "#then to average this by each year, so that you have the December-Jan for each year add the 'season year', i.e. a number of each 'season'\n",
    "add_season_year(season_cube, 'time', name='season_year')\n",
    "\n",
    "#then average by the season year:\n",
    "season_cube.aggregated_by(['season_year'], iris.analysis.MEAN)"
   ]
  },
  {
   "cell_type": "code",
   "execution_count": 7,
   "id": "d9fdee11-e7ec-44ac-a0b4-1660e840ec2e",
   "metadata": {},
   "outputs": [
    {
     "ename": "CoordinateMultiDimError",
     "evalue": "Multi-dimensional coordinate not supported: 'longitude'",
     "output_type": "error",
     "traceback": [
      "\u001b[0;31m---------------------------------------------------------------------------\u001b[0m",
      "\u001b[0;31mCoordinateMultiDimError\u001b[0m                   Traceback (most recent call last)",
      "\u001b[0;32m/var/folders/k_/kjd3hqlx6qb62y71t7q2cs7r0000gn/T/ipykernel_51115/3789528540.py\u001b[0m in \u001b[0;36m<module>\u001b[0;34m\u001b[0m\n\u001b[1;32m      7\u001b[0m \u001b[0msouth\u001b[0m \u001b[0;34m=\u001b[0m \u001b[0;34m-\u001b[0m\u001b[0;36m85\u001b[0m\u001b[0;34m\u001b[0m\u001b[0;34m\u001b[0m\u001b[0m\n\u001b[1;32m      8\u001b[0m \u001b[0mnorth\u001b[0m \u001b[0;34m=\u001b[0m \u001b[0;34m-\u001b[0m\u001b[0;36m60\u001b[0m\u001b[0;34m\u001b[0m\u001b[0;34m\u001b[0m\u001b[0m\n\u001b[0;32m----> 9\u001b[0;31m \u001b[0mtemporary_cube\u001b[0m \u001b[0;34m=\u001b[0m \u001b[0mcube3\u001b[0m\u001b[0;34m.\u001b[0m\u001b[0mintersection\u001b[0m\u001b[0;34m(\u001b[0m\u001b[0mlongitude\u001b[0m \u001b[0;34m=\u001b[0m \u001b[0;34m(\u001b[0m\u001b[0mwest\u001b[0m\u001b[0;34m,\u001b[0m \u001b[0meast\u001b[0m\u001b[0;34m)\u001b[0m\u001b[0;34m)\u001b[0m\u001b[0;34m\u001b[0m\u001b[0;34m\u001b[0m\u001b[0m\n\u001b[0m\u001b[1;32m     10\u001b[0m \u001b[0mregional_cube\u001b[0m \u001b[0;34m=\u001b[0m \u001b[0mtemporary_cube\u001b[0m\u001b[0;34m.\u001b[0m\u001b[0mintersection\u001b[0m\u001b[0;34m(\u001b[0m\u001b[0mlatitude\u001b[0m \u001b[0;34m=\u001b[0m \u001b[0;34m(\u001b[0m\u001b[0msouth\u001b[0m\u001b[0;34m,\u001b[0m \u001b[0mnorth\u001b[0m\u001b[0;34m)\u001b[0m\u001b[0;34m)\u001b[0m\u001b[0;34m\u001b[0m\u001b[0;34m\u001b[0m\u001b[0m\n\u001b[1;32m     11\u001b[0m \u001b[0max1\u001b[0m \u001b[0;34m=\u001b[0m \u001b[0mplt\u001b[0m\u001b[0;34m.\u001b[0m\u001b[0msubplot\u001b[0m\u001b[0;34m(\u001b[0m\u001b[0;36m111\u001b[0m\u001b[0;34m,\u001b[0m\u001b[0mprojection\u001b[0m\u001b[0;34m=\u001b[0m\u001b[0mccrs\u001b[0m\u001b[0;34m.\u001b[0m\u001b[0mPlateCarree\u001b[0m\u001b[0;34m(\u001b[0m\u001b[0mcentral_longitude\u001b[0m\u001b[0;34m=\u001b[0m\u001b[0mnp\u001b[0m\u001b[0;34m.\u001b[0m\u001b[0mround\u001b[0m\u001b[0;34m(\u001b[0m\u001b[0mwest\u001b[0m \u001b[0;34m+\u001b[0m \u001b[0;34m(\u001b[0m\u001b[0meast\u001b[0m \u001b[0;34m-\u001b[0m \u001b[0mwest\u001b[0m\u001b[0;34m)\u001b[0m\u001b[0;34m/\u001b[0m\u001b[0;36m2.0\u001b[0m\u001b[0;34m)\u001b[0m\u001b[0;34m)\u001b[0m\u001b[0;34m)\u001b[0m\u001b[0;34m\u001b[0m\u001b[0;34m\u001b[0m\u001b[0m\n",
      "\u001b[0;32m~/opt/miniconda3/lib/python3.9/site-packages/iris/cube.py\u001b[0m in \u001b[0;36mintersection\u001b[0;34m(self, *args, **kwargs)\u001b[0m\n\u001b[1;32m   2536\u001b[0m             \u001b[0mresult\u001b[0m \u001b[0;34m=\u001b[0m \u001b[0mresult\u001b[0m\u001b[0;34m.\u001b[0m\u001b[0m_intersect\u001b[0m\u001b[0;34m(\u001b[0m\u001b[0;34m*\u001b[0m\u001b[0marg\u001b[0m\u001b[0;34m,\u001b[0m \u001b[0mignore_bounds\u001b[0m\u001b[0;34m=\u001b[0m\u001b[0mignore_bounds\u001b[0m\u001b[0;34m)\u001b[0m\u001b[0;34m\u001b[0m\u001b[0;34m\u001b[0m\u001b[0m\n\u001b[1;32m   2537\u001b[0m         \u001b[0;32mfor\u001b[0m \u001b[0mname\u001b[0m\u001b[0;34m,\u001b[0m \u001b[0mvalue\u001b[0m \u001b[0;32min\u001b[0m \u001b[0mkwargs\u001b[0m\u001b[0;34m.\u001b[0m\u001b[0mitems\u001b[0m\u001b[0;34m(\u001b[0m\u001b[0;34m)\u001b[0m\u001b[0;34m:\u001b[0m\u001b[0;34m\u001b[0m\u001b[0;34m\u001b[0m\u001b[0m\n\u001b[0;32m-> 2538\u001b[0;31m             result = result._intersect(\n\u001b[0m\u001b[1;32m   2539\u001b[0m                 \u001b[0mname\u001b[0m\u001b[0;34m,\u001b[0m \u001b[0;34m*\u001b[0m\u001b[0mvalue\u001b[0m\u001b[0;34m,\u001b[0m \u001b[0mignore_bounds\u001b[0m\u001b[0;34m=\u001b[0m\u001b[0mignore_bounds\u001b[0m\u001b[0;34m\u001b[0m\u001b[0;34m\u001b[0m\u001b[0m\n\u001b[1;32m   2540\u001b[0m             )\n",
      "\u001b[0;32m~/opt/miniconda3/lib/python3.9/site-packages/iris/cube.py\u001b[0m in \u001b[0;36m_intersect\u001b[0;34m(self, name_or_coord, minimum, maximum, min_inclusive, max_inclusive, ignore_bounds)\u001b[0m\n\u001b[1;32m   2552\u001b[0m         \u001b[0mcoord\u001b[0m \u001b[0;34m=\u001b[0m \u001b[0mself\u001b[0m\u001b[0;34m.\u001b[0m\u001b[0mcoord\u001b[0m\u001b[0;34m(\u001b[0m\u001b[0mname_or_coord\u001b[0m\u001b[0;34m)\u001b[0m\u001b[0;34m\u001b[0m\u001b[0;34m\u001b[0m\u001b[0m\n\u001b[1;32m   2553\u001b[0m         \u001b[0;32mif\u001b[0m \u001b[0mcoord\u001b[0m\u001b[0;34m.\u001b[0m\u001b[0mndim\u001b[0m \u001b[0;34m!=\u001b[0m \u001b[0;36m1\u001b[0m\u001b[0;34m:\u001b[0m\u001b[0;34m\u001b[0m\u001b[0;34m\u001b[0m\u001b[0m\n\u001b[0;32m-> 2554\u001b[0;31m             \u001b[0;32mraise\u001b[0m \u001b[0miris\u001b[0m\u001b[0;34m.\u001b[0m\u001b[0mexceptions\u001b[0m\u001b[0;34m.\u001b[0m\u001b[0mCoordinateMultiDimError\u001b[0m\u001b[0;34m(\u001b[0m\u001b[0mcoord\u001b[0m\u001b[0;34m)\u001b[0m\u001b[0;34m\u001b[0m\u001b[0;34m\u001b[0m\u001b[0m\n\u001b[0m\u001b[1;32m   2555\u001b[0m         \u001b[0;32mif\u001b[0m \u001b[0mcoord\u001b[0m\u001b[0;34m.\u001b[0m\u001b[0mnbounds\u001b[0m \u001b[0;32mnot\u001b[0m \u001b[0;32min\u001b[0m \u001b[0;34m(\u001b[0m\u001b[0;36m0\u001b[0m\u001b[0;34m,\u001b[0m \u001b[0;36m2\u001b[0m\u001b[0;34m)\u001b[0m\u001b[0;34m:\u001b[0m\u001b[0;34m\u001b[0m\u001b[0;34m\u001b[0m\u001b[0m\n\u001b[1;32m   2556\u001b[0m             \u001b[0;32mraise\u001b[0m \u001b[0mValueError\u001b[0m\u001b[0;34m(\u001b[0m\u001b[0;34m\"expected 0 or 2 bound values per cell\"\u001b[0m\u001b[0;34m)\u001b[0m\u001b[0;34m\u001b[0m\u001b[0;34m\u001b[0m\u001b[0m\n",
      "\u001b[0;31mCoordinateMultiDimError\u001b[0m: Multi-dimensional coordinate not supported: 'longitude'"
     ]
    }
   ],
   "source": [
    "#identify the Ross Sea\n",
    "\n",
    "cube3=season_cube[0,:,:]\n",
    "\n",
    "west = -230 \n",
    "east = -110 \n",
    "south = -85 \n",
    "north = -60\n",
    "temporary_cube = cube3.intersection(longitude = (west, east)) \n",
    "regional_cube = temporary_cube.intersection(latitude = (south, north))\n",
    "ax1 = plt.subplot(111,projection=ccrs.PlateCarree(central_longitude=np.round(west + (east - west)/2.0))) \n",
    "my_plot = iplt.contourf(regional_cube)\n",
    "plt.gca().gridlines(draw_labels=True)\n",
    "\n",
    "plt.show()"
   ]
  },
  {
   "cell_type": "code",
   "execution_count": 8,
   "id": "16a2abb0-c29e-4ef8-be55-246dd6dececb",
   "metadata": {},
   "outputs": [
    {
     "ename": "NameError",
     "evalue": "name 'regional_cube' is not defined",
     "output_type": "error",
     "traceback": [
      "\u001b[0;31m---------------------------------------------------------------------------\u001b[0m",
      "\u001b[0;31mNameError\u001b[0m                                 Traceback (most recent call last)",
      "\u001b[0;32m/var/folders/k_/kjd3hqlx6qb62y71t7q2cs7r0000gn/T/ipykernel_51115/3019705529.py\u001b[0m in \u001b[0;36m<module>\u001b[0;34m\u001b[0m\n\u001b[1;32m      1\u001b[0m \u001b[0;31m#extract the most northerly row of cells:\u001b[0m\u001b[0;34m\u001b[0m\u001b[0;34m\u001b[0m\u001b[0;34m\u001b[0m\u001b[0m\n\u001b[0;32m----> 2\u001b[0;31m \u001b[0mnorth_edge\u001b[0m \u001b[0;34m=\u001b[0m \u001b[0mregional_cube\u001b[0m\u001b[0;34m.\u001b[0m\u001b[0mextract\u001b[0m\u001b[0;34m(\u001b[0m\u001b[0miris\u001b[0m\u001b[0;34m.\u001b[0m\u001b[0mConstraint\u001b[0m\u001b[0;34m(\u001b[0m\u001b[0mlatitude\u001b[0m\u001b[0;34m=\u001b[0m\u001b[0;34m-\u001b[0m\u001b[0;36m68\u001b[0m\u001b[0;34m)\u001b[0m\u001b[0;34m)\u001b[0m\u001b[0;34m\u001b[0m\u001b[0;34m\u001b[0m\u001b[0m\n\u001b[0m\u001b[1;32m      3\u001b[0m \u001b[0;34m\u001b[0m\u001b[0m\n\u001b[1;32m      4\u001b[0m \u001b[0;31m#average across this latitude to find siconc of more than 70%\u001b[0m\u001b[0;34m\u001b[0m\u001b[0;34m\u001b[0m\u001b[0;34m\u001b[0m\u001b[0m\n\u001b[1;32m      5\u001b[0m \u001b[0mnorth_edge_mean\u001b[0m \u001b[0;34m=\u001b[0m \u001b[0mnorth_edge\u001b[0m\u001b[0;34m.\u001b[0m\u001b[0mcollapsed\u001b[0m\u001b[0;34m(\u001b[0m\u001b[0;34m'longitude'\u001b[0m\u001b[0;34m,\u001b[0m \u001b[0miris\u001b[0m\u001b[0;34m.\u001b[0m\u001b[0manalysis\u001b[0m\u001b[0;34m.\u001b[0m\u001b[0mMEAN\u001b[0m\u001b[0;34m)\u001b[0m\u001b[0;34m\u001b[0m\u001b[0;34m\u001b[0m\u001b[0m\n",
      "\u001b[0;31mNameError\u001b[0m: name 'regional_cube' is not defined"
     ]
    }
   ],
   "source": [
    "#extract the most northerly row of cells:\n",
    "north_edge = regional_cube.extract(iris.Constraint(latitude=-68))\n",
    "\n",
    "#average across this latitude to find siconc of more than 70%\n",
    "north_edge_mean = north_edge.collapsed('longitude', iris.analysis.MEAN)\n",
    "print(north_edge_mean.data)"
   ]
  },
  {
   "cell_type": "code",
   "execution_count": 9,
   "id": "b1b693e0-d986-475e-bd1b-69942ddaf10b",
   "metadata": {},
   "outputs": [
    {
     "ename": "NameError",
     "evalue": "name 'regional_cube' is not defined",
     "output_type": "error",
     "traceback": [
      "\u001b[0;31m---------------------------------------------------------------------------\u001b[0m",
      "\u001b[0;31mNameError\u001b[0m                                 Traceback (most recent call last)",
      "\u001b[0;32m/var/folders/k_/kjd3hqlx6qb62y71t7q2cs7r0000gn/T/ipykernel_51115/175801792.py\u001b[0m in \u001b[0;36m<module>\u001b[0;34m\u001b[0m\n\u001b[1;32m      1\u001b[0m \u001b[0;31m#define siconc for polynya\u001b[0m\u001b[0;34m\u001b[0m\u001b[0;34m\u001b[0m\u001b[0;34m\u001b[0m\u001b[0m\n\u001b[0;32m----> 2\u001b[0;31m \u001b[0mpolynya_threshold\u001b[0m\u001b[0;34m=\u001b[0m\u001b[0mregional_cube\u001b[0m\u001b[0;34m.\u001b[0m\u001b[0mdata\u001b[0m\u001b[0;34m\u001b[0m\u001b[0;34m\u001b[0m\u001b[0m\n\u001b[0m\u001b[1;32m      3\u001b[0m \u001b[0;34m\u001b[0m\u001b[0m\n\u001b[1;32m      4\u001b[0m \u001b[0;31m#if statement to define siconc of 30% surrounded by siconc of 70+%\u001b[0m\u001b[0;34m\u001b[0m\u001b[0;34m\u001b[0m\u001b[0;34m\u001b[0m\u001b[0m\n\u001b[1;32m      5\u001b[0m \u001b[0;32mif\u001b[0m \u001b[0mpolynya_threshold\u001b[0m \u001b[0;34m<=\u001b[0m \u001b[0;36m30\u001b[0m \u001b[0;32mand\u001b[0m \u001b[0mnorth_edge_mean\u001b[0m \u001b[0;34m>=\u001b[0m \u001b[0;36m70\u001b[0m\u001b[0;34m:\u001b[0m\u001b[0;34m\u001b[0m\u001b[0;34m\u001b[0m\u001b[0m\n",
      "\u001b[0;31mNameError\u001b[0m: name 'regional_cube' is not defined"
     ]
    }
   ],
   "source": [
    "#define siconc for polynya\n",
    "polynya_threshold=regional_cube.data\n",
    "\n",
    "#if statement to define siconc of 30% surrounded by siconc of 70+%\n",
    "if polynya_threshold <= 30 and north_edge_mean >= 70:\n",
    "    qplt.pcoloresh"
   ]
  },
  {
   "cell_type": "code",
   "execution_count": 10,
   "id": "2c703f26-4b26-4393-a785-838a83a598cc",
   "metadata": {},
   "outputs": [
    {
     "ename": "NameError",
     "evalue": "name 'regional_year' is not defined",
     "output_type": "error",
     "traceback": [
      "\u001b[0;31m---------------------------------------------------------------------------\u001b[0m",
      "\u001b[0;31mNameError\u001b[0m                                 Traceback (most recent call last)",
      "\u001b[0;32m/var/folders/k_/kjd3hqlx6qb62y71t7q2cs7r0000gn/T/ipykernel_51115/36450786.py\u001b[0m in \u001b[0;36m<module>\u001b[0;34m\u001b[0m\n\u001b[1;32m      4\u001b[0m \u001b[0;34m\u001b[0m\u001b[0m\n\u001b[1;32m      5\u001b[0m  \u001b[0;31m# Iterate over all possible latitude longitude slices.\u001b[0m\u001b[0;34m\u001b[0m\u001b[0;34m\u001b[0m\u001b[0;34m\u001b[0m\u001b[0m\n\u001b[0;32m----> 6\u001b[0;31m \u001b[0;32mfor\u001b[0m \u001b[0mseason_cube\u001b[0m \u001b[0;32min\u001b[0m \u001b[0mregional_year\u001b[0m\u001b[0;34m.\u001b[0m\u001b[0mslices\u001b[0m\u001b[0;34m(\u001b[0m\u001b[0;34m[\u001b[0m\u001b[0;34m\"latitude\"\u001b[0m\u001b[0;34m,\u001b[0m \u001b[0;34m\"longitude\"\u001b[0m\u001b[0;34m]\u001b[0m\u001b[0;34m)\u001b[0m\u001b[0;34m:\u001b[0m\u001b[0;34m\u001b[0m\u001b[0;34m\u001b[0m\u001b[0m\n\u001b[0m\u001b[1;32m      7\u001b[0m \u001b[0;34m\u001b[0m\u001b[0m\n\u001b[1;32m      8\u001b[0m     \u001b[0;32mif\u001b[0m \u001b[0mpolynya_threshold\u001b[0m \u001b[0;34m<=\u001b[0m \u001b[0;36m30\u001b[0m \u001b[0;32mand\u001b[0m \u001b[0mnorth_edge_mean\u001b[0m \u001b[0;34m>=\u001b[0m \u001b[0;36m70\u001b[0m\u001b[0;34m:\u001b[0m\u001b[0;34m\u001b[0m\u001b[0;34m\u001b[0m\u001b[0m\n",
      "\u001b[0;31mNameError\u001b[0m: name 'regional_year' is not defined"
     ]
    }
   ],
   "source": [
    "#create a loop for each year to run over each season year\n",
    "year_start=2015\n",
    "year_end=2100\n",
    "\n",
    " # Iterate over all possible latitude longitude slices.\n",
    "for season_cube in regional_year.slices([\"latitude\", \"longitude\"]):\n",
    "    \n",
    "    if polynya_threshold <= 30 and north_edge_mean >= 70:\n",
    "        plt.subplot\n",
    "    else:\n",
    "        print('no polynya')"
   ]
  },
  {
   "cell_type": "code",
   "execution_count": 11,
   "id": "66d24ce0-6a44-4352-b74d-ebec6a345bda",
   "metadata": {},
   "outputs": [
    {
     "ename": "NameError",
     "evalue": "name 'result' is not defined",
     "output_type": "error",
     "traceback": [
      "\u001b[0;31m---------------------------------------------------------------------------\u001b[0m",
      "\u001b[0;31mNameError\u001b[0m                                 Traceback (most recent call last)",
      "\u001b[0;32m/var/folders/k_/kjd3hqlx6qb62y71t7q2cs7r0000gn/T/ipykernel_51115/1451214628.py\u001b[0m in \u001b[0;36m<module>\u001b[0;34m\u001b[0m\n\u001b[1;32m      2\u001b[0m \u001b[0;31m#result being the output from previous cell which doesn't run\u001b[0m\u001b[0;34m\u001b[0m\u001b[0;34m\u001b[0m\u001b[0;34m\u001b[0m\u001b[0m\n\u001b[1;32m      3\u001b[0m \u001b[0;34m\u001b[0m\u001b[0m\n\u001b[0;32m----> 4\u001b[0;31m \u001b[0mresult\u001b[0m\u001b[0;34m.\u001b[0m\u001b[0mcoord\u001b[0m\u001b[0;34m(\u001b[0m\u001b[0;34m'grid_latitude'\u001b[0m\u001b[0;34m)\u001b[0m\u001b[0;34m.\u001b[0m\u001b[0mguess_bounds\u001b[0m\u001b[0;34m(\u001b[0m\u001b[0;34m)\u001b[0m\u001b[0;34m\u001b[0m\u001b[0;34m\u001b[0m\u001b[0m\n\u001b[0m\u001b[1;32m      5\u001b[0m \u001b[0mresult\u001b[0m\u001b[0;34m.\u001b[0m\u001b[0mcoord\u001b[0m\u001b[0;34m(\u001b[0m\u001b[0;34m'grid_longitude'\u001b[0m\u001b[0;34m)\u001b[0m\u001b[0;34m.\u001b[0m\u001b[0mguess_bounds\u001b[0m\u001b[0;34m(\u001b[0m\u001b[0;34m)\u001b[0m\u001b[0;34m\u001b[0m\u001b[0;34m\u001b[0m\u001b[0m\n\u001b[1;32m      6\u001b[0m \u001b[0mgrid_areas\u001b[0m \u001b[0;34m=\u001b[0m \u001b[0miris\u001b[0m\u001b[0;34m.\u001b[0m\u001b[0manalysis\u001b[0m\u001b[0;34m.\u001b[0m\u001b[0mcartography\u001b[0m\u001b[0;34m.\u001b[0m\u001b[0marea_weights\u001b[0m\u001b[0;34m(\u001b[0m\u001b[0mcube\u001b[0m\u001b[0;34m)\u001b[0m\u001b[0;34m\u001b[0m\u001b[0;34m\u001b[0m\u001b[0m\n",
      "\u001b[0;31mNameError\u001b[0m: name 'result' is not defined"
     ]
    }
   ],
   "source": [
    "#calculate the area of the ouput (polynya)\n",
    "#result being the output from previous cell which doesn't run\n",
    "\n",
    "result.coord('grid_latitude').guess_bounds()\n",
    "result.coord('grid_longitude').guess_bounds()\n",
    "grid_areas = iris.analysis.cartography.area_weights(cube)\n",
    "\n",
    "cube_vf = result.collapsed(['grid_longitude', 'grid_latitude'], iris.analysis.MEAN, weights=grid_areas)"
   ]
  },
  {
   "cell_type": "code",
   "execution_count": null,
   "id": "216e7e5d-db77-45d4-9c3e-9c4062e8b3a1",
   "metadata": {},
   "outputs": [],
   "source": []
  }
 ],
 "metadata": {
  "kernelspec": {
   "display_name": "Python 3 (ipykernel)",
   "language": "python",
   "name": "python3"
  },
  "language_info": {
   "codemirror_mode": {
    "name": "ipython",
    "version": 3
   },
   "file_extension": ".py",
   "mimetype": "text/x-python",
   "name": "python",
   "nbconvert_exporter": "python",
   "pygments_lexer": "ipython3",
   "version": "3.9.5"
  }
 },
 "nbformat": 4,
 "nbformat_minor": 5
}
